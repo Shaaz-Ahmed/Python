{
 "cells": [
  {
   "cell_type": "code",
   "execution_count": null,
   "id": "5867a647-e407-46a7-932f-32ce47c69de7",
   "metadata": {},
   "outputs": [],
   "source": [
    "# if "
   ]
  },
  {
   "cell_type": "code",
   "execution_count": null,
   "id": "e9400c11-bf7a-4056-9380-cc5ea369c4e1",
   "metadata": {},
   "outputs": [],
   "source": [
    "# if statement execute the code when the if condition is true. \n",
    "# We use if keyword to use if statement"
   ]
  },
  {
   "cell_type": "code",
   "execution_count": 2,
   "id": "deabdc42-6f98-4a5f-8f5d-1c2f0f838b73",
   "metadata": {},
   "outputs": [
    {
     "name": "stdout",
     "output_type": "stream",
     "text": [
      "Its greater than 10\n"
     ]
    }
   ],
   "source": [
    "x = 20\n",
    "if x>10:\n",
    "    print(\"Its greater than 10\")"
   ]
  },
  {
   "cell_type": "code",
   "execution_count": null,
   "id": "9f01d918-0802-4c23-a17a-1470255fec4a",
   "metadata": {},
   "outputs": [],
   "source": []
  },
  {
   "cell_type": "code",
   "execution_count": null,
   "id": "a1ec6146-f049-4347-b39b-c8bf6a6a56fc",
   "metadata": {},
   "outputs": [],
   "source": [
    "# elif "
   ]
  },
  {
   "cell_type": "code",
   "execution_count": null,
   "id": "cba4b6c7-3f6a-4c2f-be0c-d36310942953",
   "metadata": {},
   "outputs": [],
   "source": [
    "# elif is like a else if .\n",
    "# It says if the previos condiiton is not true then try this"
   ]
  },
  {
   "cell_type": "code",
   "execution_count": 5,
   "id": "115973b5-5226-4ff4-9c67-2679a100828f",
   "metadata": {},
   "outputs": [
    {
     "name": "stdout",
     "output_type": "stream",
     "text": [
      "a and b are equal\n"
     ]
    }
   ],
   "source": [
    "a = 33\n",
    "b = 33\n",
    "if b > a:\n",
    "  print(\"b is greater than a\")\n",
    "elif a == b:\n",
    "  print(\"a and b are equal\")"
   ]
  },
  {
   "cell_type": "code",
   "execution_count": 10,
   "id": "c9429a25-fd82-445e-ab99-024e95b4f5b7",
   "metadata": {},
   "outputs": [
    {
     "name": "stdout",
     "output_type": "stream",
     "text": [
      "a and b are equal\n"
     ]
    }
   ],
   "source": [
    "a = 33\n",
    "b = 33\n",
    "if b > a:\n",
    "  print(\"b is greater than a\")\n",
    "elif a == b:\n",
    "  print(\"a and b are equal\")"
   ]
  },
  {
   "cell_type": "code",
   "execution_count": null,
   "id": "bdde9271-6f29-4b41-b510-1652b0c3c644",
   "metadata": {},
   "outputs": [],
   "source": [
    "# else"
   ]
  },
  {
   "cell_type": "code",
   "execution_count": null,
   "id": "15e94170-8757-4e57-986c-14509d9dc0e8",
   "metadata": {},
   "outputs": [],
   "source": [
    "a = 200\n",
    "b = 33\n",
    "if b > a:\n",
    "  print(\"b is greater than a\")\n",
    "elif a == b:\n",
    "  print(\"a and b are equal\")\n",
    "else:\n",
    "  print(\"a is greater than b\")"
   ]
  },
  {
   "cell_type": "code",
   "execution_count": null,
   "id": "87d3b68f-ad55-4b80-9cc1-4fc92ebfbee3",
   "metadata": {},
   "outputs": [],
   "source": []
  },
  {
   "cell_type": "code",
   "execution_count": null,
   "id": "42d82a4a-e438-43bd-b2db-45b11b923a70",
   "metadata": {},
   "outputs": [],
   "source": []
  },
  {
   "cell_type": "code",
   "execution_count": null,
   "id": "7819ab3f-0c06-4b67-b2bc-a6d123bf1b43",
   "metadata": {},
   "outputs": [],
   "source": [
    "# Nested if "
   ]
  },
  {
   "cell_type": "code",
   "execution_count": null,
   "id": "ac03068d-09af-4281-95a1-5b573240341a",
   "metadata": {},
   "outputs": [],
   "source": [
    "# It means if inisde if statement is called nested if "
   ]
  },
  {
   "cell_type": "code",
   "execution_count": 11,
   "id": "01252724-0232-4e85-ada5-d2f98a8cf626",
   "metadata": {},
   "outputs": [
    {
     "name": "stdout",
     "output_type": "stream",
     "text": [
      "Above ten,\n",
      "and also above 20!\n"
     ]
    }
   ],
   "source": [
    "x = 41\n",
    "\n",
    "if x > 10:\n",
    "  print(\"Above ten,\")\n",
    "  if x > 20:\n",
    "    print(\"and also above 20!\")\n",
    "  else:\n",
    "    print(\"but not above 20.\")\n"
   ]
  },
  {
   "cell_type": "code",
   "execution_count": 12,
   "id": "15dab895-2d94-4b00-a3b7-42184fc3c9e4",
   "metadata": {},
   "outputs": [
    {
     "name": "stdout",
     "output_type": "stream",
     "text": [
      "Above 10!\n",
      "Above 20!\n"
     ]
    }
   ],
   "source": [
    "x = 41\n",
    "\n",
    "if x > 10:\n",
    "    print(\"Above 10!\")\n",
    "    if x > 20:\n",
    "        print(\"Above 20!\")\n",
    "    else:\n",
    "        print(\"Above all\")"
   ]
  },
  {
   "cell_type": "code",
   "execution_count": null,
   "id": "32c5c474-ced7-4d28-9020-50d885652076",
   "metadata": {},
   "outputs": [],
   "source": []
  }
 ],
 "metadata": {
  "kernelspec": {
   "display_name": "Python 3 (ipykernel)",
   "language": "python",
   "name": "python3"
  },
  "language_info": {
   "codemirror_mode": {
    "name": "ipython",
    "version": 3
   },
   "file_extension": ".py",
   "mimetype": "text/x-python",
   "name": "python",
   "nbconvert_exporter": "python",
   "pygments_lexer": "ipython3",
   "version": "3.12.1"
  }
 },
 "nbformat": 4,
 "nbformat_minor": 5
}
