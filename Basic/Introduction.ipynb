{
 "cells": [
  {
   "cell_type": "code",
   "execution_count": null,
   "id": "f34667cd-1636-42ef-a99c-de42d756438f",
   "metadata": {},
   "outputs": [],
   "source": [
    "#Python is a popular language It was developed by Guido van Rossum and was relases in 1991\n",
    "#It is used for web development , software development , and many more"
   ]
  },
  {
   "cell_type": "code",
   "execution_count": null,
   "id": "909f172f-d58f-4354-9565-bdd9f9975a0c",
   "metadata": {},
   "outputs": [],
   "source": [
    "#Python has simple syntax similar like english language\n",
    "# to print anything in python we just have to use print keyword"
   ]
  },
  {
   "cell_type": "code",
   "execution_count": 2,
   "id": "2c7b446d-b06d-4ccc-9cec-fa3bb47d2895",
   "metadata": {},
   "outputs": [
    {
     "name": "stdout",
     "output_type": "stream",
     "text": [
      "Hello ! World\n"
     ]
    }
   ],
   "source": [
    "print(\"Hello ! World\");"
   ]
  },
  {
   "cell_type": "code",
   "execution_count": null,
   "id": "dc0ae54d-046e-43f9-99c6-2544097116e2",
   "metadata": {},
   "outputs": [],
   "source": [
    "# to make use of comment in python we make use of a # \n",
    "# and for using multi line comments we make use of \"\"\"...  \"\"\""
   ]
  }
 ],
 "metadata": {
  "kernelspec": {
   "display_name": "Python 3 (ipykernel)",
   "language": "python",
   "name": "python3"
  },
  "language_info": {
   "codemirror_mode": {
    "name": "ipython",
    "version": 3
   },
   "file_extension": ".py",
   "mimetype": "text/x-python",
   "name": "python",
   "nbconvert_exporter": "python",
   "pygments_lexer": "ipython3",
   "version": "3.12.1"
  }
 },
 "nbformat": 4,
 "nbformat_minor": 5
}
