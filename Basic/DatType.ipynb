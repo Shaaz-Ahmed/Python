{
 "cells": [
  {
   "cell_type": "code",
   "execution_count": null,
   "id": "88f4cc6e-58b8-4a54-ae38-d9c2800cf9f0",
   "metadata": {},
   "outputs": [],
   "source": [
    "Data Types "
   ]
  },
  {
   "cell_type": "code",
   "execution_count": null,
   "id": "0067a3a8-bac2-4c01-ac81-c4cf35e0867d",
   "metadata": {},
   "outputs": [],
   "source": [
    "Data types tells us that what types of data is it"
   ]
  },
  {
   "cell_type": "code",
   "execution_count": null,
   "id": "f2d6dada-2132-460b-a4f8-1f60e2ec20f2",
   "metadata": {},
   "outputs": [],
   "source": [
    "text = String\n",
    "number = int , float , complex\n",
    "sequence = list , tupes , range\n",
    "mapping = dict\n",
    "boo;ean = bool"
   ]
  },
  {
   "cell_type": "code",
   "execution_count": 1,
   "id": "f4f29cff-73dd-422e-8160-a1bbfff4bdfe",
   "metadata": {},
   "outputs": [
    {
     "name": "stdout",
     "output_type": "stream",
     "text": [
      "Shaaz\n"
     ]
    }
   ],
   "source": [
    "# text data types\n",
    "x = \"Shaaz\"\n",
    "print(x)"
   ]
  },
  {
   "cell_type": "code",
   "execution_count": 2,
   "id": "9fc0bf16-5388-4bc7-a18f-0e71b205e4cf",
   "metadata": {},
   "outputs": [
    {
     "name": "stdout",
     "output_type": "stream",
     "text": [
      "20\n"
     ]
    }
   ],
   "source": [
    "# Number Data type\n",
    "x = int(20)\n",
    "print(x)"
   ]
  },
  {
   "cell_type": "code",
   "execution_count": 3,
   "id": "0a6470a2-16a7-4762-9f9e-a1f22103f3cd",
   "metadata": {},
   "outputs": [
    {
     "name": "stdout",
     "output_type": "stream",
     "text": [
      "30.0\n"
     ]
    }
   ],
   "source": [
    "y = float(30)\n",
    "print(y)"
   ]
  },
  {
   "cell_type": "code",
   "execution_count": 5,
   "id": "d5a4ca25-b4b9-4a7f-a213-2d3a54281a39",
   "metadata": {},
   "outputs": [
    {
     "name": "stdout",
     "output_type": "stream",
     "text": [
      "1j\n"
     ]
    }
   ],
   "source": [
    "x = 1j\n",
    "print(x)"
   ]
  },
  {
   "cell_type": "code",
   "execution_count": 6,
   "id": "9a6c3d12-63ca-4a94-adbc-0fa1f8bd2444",
   "metadata": {},
   "outputs": [
    {
     "name": "stdout",
     "output_type": "stream",
     "text": [
      "['one', 'Two', 'Three']\n"
     ]
    }
   ],
   "source": [
    "# Sequenece\n",
    "# List \n",
    "x = [\"one\", \"Two\", \"Three\"]\n",
    "print(x)"
   ]
  },
  {
   "cell_type": "code",
   "execution_count": 7,
   "id": "fc027866-7c97-4b7a-a9dc-dddd8871d60b",
   "metadata": {},
   "outputs": [
    {
     "name": "stdout",
     "output_type": "stream",
     "text": [
      "('one', 'two', 'three')\n"
     ]
    }
   ],
   "source": [
    "# tuples\n",
    "x = (\"one\", \"two\", \"three\")\n",
    "print(x)"
   ]
  },
  {
   "cell_type": "code",
   "execution_count": 9,
   "id": "704d9a25-6861-42d2-b915-9eebe9ff61a7",
   "metadata": {},
   "outputs": [
    {
     "name": "stdout",
     "output_type": "stream",
     "text": [
      "{'name': 'Shaaz', 'age': 20}\n"
     ]
    }
   ],
   "source": [
    "# dictionary\n",
    "x = {\"name\":\"Shaaz\" , \"age\" : 20}\n",
    "print(x)"
   ]
  },
  {
   "cell_type": "code",
   "execution_count": null,
   "id": "a0b2bef7-7614-4685-9f3b-968004db5d8d",
   "metadata": {},
   "outputs": [],
   "source": []
  }
 ],
 "metadata": {
  "kernelspec": {
   "display_name": "Python 3 (ipykernel)",
   "language": "python",
   "name": "python3"
  },
  "language_info": {
   "codemirror_mode": {
    "name": "ipython",
    "version": 3
   },
   "file_extension": ".py",
   "mimetype": "text/x-python",
   "name": "python",
   "nbconvert_exporter": "python",
   "pygments_lexer": "ipython3",
   "version": "3.12.1"
  }
 },
 "nbformat": 4,
 "nbformat_minor": 5
}
