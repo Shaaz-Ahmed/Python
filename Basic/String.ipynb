{
 "cells": [
  {
   "cell_type": "code",
   "execution_count": null,
   "id": "9d17c412-68e7-4aa1-8cc6-92f6d2958f13",
   "metadata": {},
   "outputs": [],
   "source": [
    "# String in Python"
   ]
  },
  {
   "cell_type": "code",
   "execution_count": null,
   "id": "1f6e17af-e1c4-4532-b5fa-9e2656e7ac42",
   "metadata": {},
   "outputs": [],
   "source": [
    "# string is a combination or collection of a character , we can store the complete string into single variable \n",
    "# String is written is double quotes or single quotes , if we are going to use single quote in string the use double quotes in start and last\n",
    "# string values always start with zero , it counts all the character and white space\n",
    "# string can acees directly using print \n",
    "\n",
    "\n",
    "# syntax var_name = \" \""
   ]
  },
  {
   "cell_type": "code",
   "execution_count": 1,
   "id": "01dba448-df32-427f-bc6f-719aace4123d",
   "metadata": {},
   "outputs": [
    {
     "name": "stdout",
     "output_type": "stream",
     "text": [
      "Shaaz\n"
     ]
    }
   ],
   "source": [
    "# sample string\n",
    "a = \"Shaaz\"\n",
    "print(a)"
   ]
  },
  {
   "cell_type": "code",
   "execution_count": 2,
   "id": "72612bea-b49a-4eb5-81d4-983ff18ffc5f",
   "metadata": {},
   "outputs": [
    {
     "name": "stdout",
     "output_type": "stream",
     "text": [
      "Mukadam\n"
     ]
    }
   ],
   "source": [
    "b = 'Mukadam'\n",
    "print(b)\n",
    "# Theres no any restriction with single or double quotes we can use either single or double quotes."
   ]
  },
  {
   "cell_type": "code",
   "execution_count": null,
   "id": "fa8d2def-755c-4433-ac73-b5fe95988298",
   "metadata": {},
   "outputs": [],
   "source": [
    "# Multiple Line string :\n",
    "#If we need a multiple line string then we can make use of three double or single quotes"
   ]
  },
  {
   "cell_type": "code",
   "execution_count": 3,
   "id": "7c63a377-0830-4a64-a969-66dde6b7ae81",
   "metadata": {},
   "outputs": [
    {
     "name": "stdout",
     "output_type": "stream",
     "text": [
      "bjdvsbhkdfbavfvlbfv\n",
      "dsvahfvfdbaf\n",
      "avhbdahlvf\n",
      "bfvhbfvhjfvd\n"
     ]
    }
   ],
   "source": [
    "a = \"\"\"bjdvsbhkdfbavfvlbfv\n",
    "dsvahfvfdbaf\n",
    "avhbdahlvf\n",
    "bfvhbfvhjfvd\"\"\"\n",
    "print(a)\n",
    "\n",
    "# So here's the multiple line of string"
   ]
  },
  {
   "cell_type": "code",
   "execution_count": null,
   "id": "1f0da096-fdc9-41aa-be56-93336c61052c",
   "metadata": {},
   "outputs": [],
   "source": []
  },
  {
   "cell_type": "code",
   "execution_count": null,
   "id": "db18802a-9104-457a-a2e8-39d03a78da82",
   "metadata": {},
   "outputs": [],
   "source": [
    "# String as Array :\n",
    "# we can consider string as aray too, like we can access the particular word using string index"
   ]
  },
  {
   "cell_type": "code",
   "execution_count": 4,
   "id": "260d4f88-f2eb-4966-a657-4561d0ad55b6",
   "metadata": {},
   "outputs": [
    {
     "name": "stdout",
     "output_type": "stream",
     "text": [
      "e\n"
     ]
    }
   ],
   "source": [
    "a = \"Hello World\"\n",
    "print(a[1])"
   ]
  },
  {
   "cell_type": "code",
   "execution_count": null,
   "id": "b70e29e7-8f66-4946-ad88-3d5663cedbb0",
   "metadata": {},
   "outputs": [],
   "source": []
  },
  {
   "cell_type": "code",
   "execution_count": null,
   "id": "16d0c595-cbef-4ee9-99a3-48b43d039e9b",
   "metadata": {},
   "outputs": [],
   "source": []
  },
  {
   "cell_type": "code",
   "execution_count": null,
   "id": "c52807eb-a88c-4c65-922e-61fde0cff7ba",
   "metadata": {},
   "outputs": [],
   "source": []
  },
  {
   "cell_type": "code",
   "execution_count": null,
   "id": "b77d4d9d-0d9c-4de4-bf6f-25fb15d73dba",
   "metadata": {},
   "outputs": [],
   "source": [
    "# String Slicing: "
   ]
  },
  {
   "cell_type": "code",
   "execution_count": null,
   "id": "38f012f2-325f-4a38-af34-e08d881df0cf",
   "metadata": {},
   "outputs": [],
   "source": []
  },
  {
   "cell_type": "code",
   "execution_count": null,
   "id": "d0578a1d-b458-41a0-8041-97183842a0ef",
   "metadata": {},
   "outputs": [],
   "source": [
    "# string slicing mean we are dividing the string into sub string, we can slice the sub string in three ways\n",
    "# For string slicing we have to give the start index of string , and end index of string seperated by colon\n",
    "\n",
    "#Syntax:  print(a[start_index : end_index])\n",
    "# Three ways they are\n",
    "# 1. Slicing from particular point to particular point\n",
    "# 2. Slicing from start to particular point\n",
    "# 3. Slicing from particular point to end index"
   ]
  },
  {
   "cell_type": "code",
   "execution_count": 5,
   "id": "dcb714aa-9ffc-40d5-a7bc-3c575b4f1257",
   "metadata": {},
   "outputs": [
    {
     "name": "stdout",
     "output_type": "stream",
     "text": [
      "aaz\n"
     ]
    }
   ],
   "source": [
    "# Slicing from particular point to particular point\n",
    "a = \"Shaaz Mukadam\"\n",
    "print(a[2:5])\n",
    "# here the 2 is starting index and 5 is end index ( it count space ad character too)"
   ]
  },
  {
   "cell_type": "code",
   "execution_count": 6,
   "id": "aad05d40-4bbe-487b-8c2c-3f311334019f",
   "metadata": {},
   "outputs": [
    {
     "name": "stdout",
     "output_type": "stream",
     "text": [
      "Shaaz M\n"
     ]
    }
   ],
   "source": [
    "# Slicing from start to particular point \n",
    "# It mean we dont have to give the start index we have to put it exmpty so it would directly assume first index\n",
    "a = \"Shaaz Mukadam\"\n",
    "print(a[ :7])\n",
    "# here the 7 is the end index and space is start index which means it starts from first index"
   ]
  },
  {
   "cell_type": "code",
   "execution_count": 7,
   "id": "e65a6ac6-ff27-4e92-8b3f-c451194ec3ba",
   "metadata": {},
   "outputs": [
    {
     "name": "stdout",
     "output_type": "stream",
     "text": [
      "az Mukadam\n"
     ]
    }
   ],
   "source": [
    "# Slicing from particular index to end index\n",
    "a = \"Shaaz Mukadam\"\n",
    "print(a[3: ])\n",
    "# Here the 3 is start index and end index is empty t mean it will assume till last index"
   ]
  },
  {
   "cell_type": "code",
   "execution_count": null,
   "id": "e2ccf947-45ea-4c58-a6ae-0b4a5b8c4765",
   "metadata": {},
   "outputs": [],
   "source": []
  },
  {
   "cell_type": "code",
   "execution_count": null,
   "id": "e32e000d-f622-41ac-8398-544437fba50e",
   "metadata": {},
   "outputs": [],
   "source": []
  },
  {
   "cell_type": "code",
   "execution_count": null,
   "id": "09fe9dd1-015b-4fc4-8aa1-7c4fa64a9ade",
   "metadata": {},
   "outputs": [],
   "source": []
  },
  {
   "cell_type": "code",
   "execution_count": null,
   "id": "7a672452-0572-4a16-8cfc-78edc319e392",
   "metadata": {},
   "outputs": [],
   "source": [
    "# String modify:"
   ]
  },
  {
   "cell_type": "code",
   "execution_count": null,
   "id": "2de679b5-f6e1-4da0-b5c4-5eab6f31b8ea",
   "metadata": {},
   "outputs": [],
   "source": [
    "# string modify means we can modify the string like\n",
    "# uppercase() lowercase() replace ()"
   ]
  },
  {
   "cell_type": "code",
   "execution_count": 8,
   "id": "b3c6e216-bd6a-445a-ab63-cec1d09cf950",
   "metadata": {},
   "outputs": [
    {
     "name": "stdout",
     "output_type": "stream",
     "text": [
      "SHAAZ MUKADAM\n"
     ]
    }
   ],
   "source": [
    "# Upper case :\n",
    "#convert the string into upper case\n",
    "a= \"shaaz mukadam\"\n",
    "print(a.upper())"
   ]
  },
  {
   "cell_type": "code",
   "execution_count": 9,
   "id": "8e434624-26f4-46aa-a115-aaecf839df6e",
   "metadata": {},
   "outputs": [
    {
     "name": "stdout",
     "output_type": "stream",
     "text": [
      "hello world\n"
     ]
    }
   ],
   "source": [
    "# lower case:\n",
    "# convert the string into lower case\n",
    "a = \"Hello World\"\n",
    "print(a.lower())"
   ]
  },
  {
   "cell_type": "code",
   "execution_count": 11,
   "id": "521ff382-3ef3-4596-8741-35172c69308d",
   "metadata": {},
   "outputs": [
    {
     "name": "stdout",
     "output_type": "stream",
     "text": [
      "Shaaz Mukadam\n"
     ]
    }
   ],
   "source": [
    "# Replace :\n",
    "# it replace the given letter to mentioned letter\n",
    "a = \"Shaaz Mukadam\"\n",
    "print(a.replace(\"A\", \"B\"))"
   ]
  },
  {
   "cell_type": "code",
   "execution_count": null,
   "id": "803a6027-3d3f-4d2b-a5c7-fca15fad5cc4",
   "metadata": {},
   "outputs": [],
   "source": []
  },
  {
   "cell_type": "code",
   "execution_count": null,
   "id": "6a5e86e4-731a-4562-94ed-d2551cddce6e",
   "metadata": {},
   "outputs": [],
   "source": []
  },
  {
   "cell_type": "code",
   "execution_count": null,
   "id": "af24cedf-32a3-415c-b472-2cb84cbd594a",
   "metadata": {},
   "outputs": [],
   "source": []
  },
  {
   "cell_type": "code",
   "execution_count": 13,
   "id": "435b6829-7b7d-48c6-9e09-2aac4871b886",
   "metadata": {},
   "outputs": [
    {
     "name": "stdout",
     "output_type": "stream",
     "text": [
      "String 1 string 2\n"
     ]
    }
   ],
   "source": [
    "# Concatenation :\n",
    "# concatention string means we have to combine the string\n",
    "a = \"String 1\"\n",
    "b = \"string 2\"\n",
    "print(a+\" \" +b)"
   ]
  },
  {
   "cell_type": "code",
   "execution_count": null,
   "id": "64f01404-1818-4e09-97ba-143cc90cc120",
   "metadata": {},
   "outputs": [],
   "source": []
  }
 ],
 "metadata": {
  "kernelspec": {
   "display_name": "Python 3 (ipykernel)",
   "language": "python",
   "name": "python3"
  },
  "language_info": {
   "codemirror_mode": {
    "name": "ipython",
    "version": 3
   },
   "file_extension": ".py",
   "mimetype": "text/x-python",
   "name": "python",
   "nbconvert_exporter": "python",
   "pygments_lexer": "ipython3",
   "version": "3.12.1"
  }
 },
 "nbformat": 4,
 "nbformat_minor": 5
}
