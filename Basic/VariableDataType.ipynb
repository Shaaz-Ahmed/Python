{
 "cells": [
  {
   "cell_type": "code",
   "execution_count": null,
   "id": "95a75583-97a4-4a25-944d-80cc3b8dbe9e",
   "metadata": {},
   "outputs": [],
   "source": [
    "# Variable and data types"
   ]
  },
  {
   "cell_type": "code",
   "execution_count": null,
   "id": "67dab867-26fa-4edf-a632-c6de6a634ea2",
   "metadata": {},
   "outputs": [],
   "source": [
    "# Variable is used to store the value. variable is like a container where we can store the value\n",
    "# python has no command for declaring for the variable\n"
   ]
  },
  {
   "cell_type": "code",
   "execution_count": null,
   "id": "0a771fea-466c-44c2-b93e-5da6141e2fad",
   "metadata": {},
   "outputs": [],
   "source": [
    "#Syntax for variable\n",
    "variable_name = \"Value\"    # for string variable\n",
    "variable_name = value    # for interger variable"
   ]
  },
  {
   "cell_type": "code",
   "execution_count": null,
   "id": "3c986b3b-a09e-4375-80bd-9beeafd06ea7",
   "metadata": {},
   "outputs": [],
   "source": [
    "# vairble must should start with alphabet \n",
    "# varibale name should be case sensitive , a variable name cannot start with  number"
   ]
  },
  {
   "cell_type": "code",
   "execution_count": 1,
   "id": "f23ac3bf-ab2b-4671-9cfa-940de89ef4e5",
   "metadata": {},
   "outputs": [
    {
     "name": "stdout",
     "output_type": "stream",
     "text": [
      "10\n"
     ]
    }
   ],
   "source": [
    "a = 10;\n",
    "print(a);"
   ]
  },
  {
   "cell_type": "code",
   "execution_count": 2,
   "id": "5c808773-8516-4e1c-9403-817ba42c46bf",
   "metadata": {},
   "outputs": [
    {
     "name": "stdout",
     "output_type": "stream",
     "text": [
      "Shaaz\n"
     ]
    }
   ],
   "source": [
    "b = \"Shaaz\";\n",
    "print(b);"
   ]
  },
  {
   "cell_type": "code",
   "execution_count": 3,
   "id": "da364a09-a8ef-4ad8-97f1-34833f8c522e",
   "metadata": {},
   "outputs": [
    {
     "name": "stdout",
     "output_type": "stream",
     "text": [
      "Orange Banana Waermeloan\n"
     ]
    }
   ],
   "source": [
    "# Multiple variable \n",
    "x , y , z = \"Orange\" , \"Banana\" , \"Waermeloan\";\n",
    "print(x,y,z);"
   ]
  },
  {
   "cell_type": "code",
   "execution_count": null,
   "id": "6fa65c52-cb3c-4dda-86c1-c70f78519b16",
   "metadata": {},
   "outputs": [],
   "source": [
    "# Data Types:\n",
    "# Data types means it tell about which types of data it is \n",
    "# Data types can be int , char , float etc\n",
    "# data type in python is inbuilt we dont have to assign the value for the variable"
   ]
  },
  {
   "cell_type": "code",
   "execution_count": 4,
   "id": "ed1109a7-01f6-4d29-a3aa-d841e67187cf",
   "metadata": {},
   "outputs": [
    {
     "name": "stdout",
     "output_type": "stream",
     "text": [
      "10\n"
     ]
    }
   ],
   "source": [
    "z = 1023;\n",
    "print(z);"
   ]
  },
  {
   "cell_type": "code",
   "execution_count": null,
   "id": "a64c5255-9b2c-4bab-9e87-724875bd5c28",
   "metadata": {},
   "outputs": [],
   "source": []
  }
 ],
 "metadata": {
  "kernelspec": {
   "display_name": "Python 3 (ipykernel)",
   "language": "python",
   "name": "python3"
  },
  "language_info": {
   "codemirror_mode": {
    "name": "ipython",
    "version": 3
   },
   "file_extension": ".py",
   "mimetype": "text/x-python",
   "name": "python",
   "nbconvert_exporter": "python",
   "pygments_lexer": "ipython3",
   "version": "3.12.1"
  }
 },
 "nbformat": 4,
 "nbformat_minor": 5
}
