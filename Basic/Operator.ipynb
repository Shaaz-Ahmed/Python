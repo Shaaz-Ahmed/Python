{
 "cells": [
  {
   "cell_type": "code",
   "execution_count": null,
   "id": "317c0bbf-972d-4ed7-a88d-d9bec80634b0",
   "metadata": {},
   "outputs": [],
   "source": [
    "# Operator:"
   ]
  },
  {
   "cell_type": "code",
   "execution_count": null,
   "id": "f9bdc0e8-68cd-4566-8334-54c89ba366da",
   "metadata": {},
   "outputs": [],
   "source": [
    "# operator are used to perform operation on values\n",
    "# operator are:\n",
    "# 1. Arithematic opeartor\n",
    "# 2. Logical Operator\n",
    "# 3. Comparsion operator\n",
    "# 4. Assignment operator\n",
    "# 5. Identity operator\n",
    "# 6. Membership operator"
   ]
  },
  {
   "cell_type": "code",
   "execution_count": null,
   "id": "9e121849-b482-4d3e-9fec-4958c3f70387",
   "metadata": {},
   "outputs": [],
   "source": []
  },
  {
   "cell_type": "code",
   "execution_count": null,
   "id": "9fd5eec7-66b5-47d1-9e42-928408bba7af",
   "metadata": {},
   "outputs": [],
   "source": []
  },
  {
   "cell_type": "code",
   "execution_count": null,
   "id": "ebc82420-04fe-4cf5-98d6-fcd60fb81ba7",
   "metadata": {},
   "outputs": [],
   "source": [
    "# Assignment Opeartor:"
   ]
  },
  {
   "cell_type": "code",
   "execution_count": null,
   "id": "2173dfd8-e080-4a8b-ab39-8c211cc54ade",
   "metadata": {},
   "outputs": [],
   "source": [
    "# Assignment operator are used to perform as basic opeartion like\n",
    "# + - * / %"
   ]
  },
  {
   "cell_type": "code",
   "execution_count": 1,
   "id": "3a322ed3-0897-4336-bbbf-85765151e6a1",
   "metadata": {},
   "outputs": [
    {
     "name": "stdout",
     "output_type": "stream",
     "text": [
      "30\n"
     ]
    }
   ],
   "source": [
    "# + Addition operator : It ised to add two numbers\n",
    "x = 10\n",
    "y = 20\n",
    "print(x+y)"
   ]
  },
  {
   "cell_type": "code",
   "execution_count": 2,
   "id": "aa58a638-4f9c-48b4-85cd-c44a3b3271c7",
   "metadata": {},
   "outputs": [
    {
     "name": "stdout",
     "output_type": "stream",
     "text": [
      "10\n"
     ]
    }
   ],
   "source": [
    "# Subtraction Operator (-):\n",
    "# used to perform subtraction on two number \n",
    "x = 20\n",
    "y = 10\n",
    "print(x-y)"
   ]
  },
  {
   "cell_type": "code",
   "execution_count": 3,
   "id": "3006e816-c84b-4e03-8781-8bc81a4dda50",
   "metadata": {},
   "outputs": [
    {
     "name": "stdout",
     "output_type": "stream",
     "text": [
      "200\n"
     ]
    }
   ],
   "source": [
    "# Multiplication Operator (*):\n",
    "# It is used to multiply two numbers\n",
    "x = 20\n",
    "y= 10\n",
    "print(x*y)"
   ]
  },
  {
   "cell_type": "code",
   "execution_count": 4,
   "id": "df6380bc-7aa4-4639-a018-a391ad884513",
   "metadata": {},
   "outputs": [
    {
     "name": "stdout",
     "output_type": "stream",
     "text": [
      "5.0\n"
     ]
    }
   ],
   "source": [
    "# Division operator (/):\n",
    "# It is used to divide the two numbers\n",
    "x = 20\n",
    "y = 4\n",
    "print(x/y)"
   ]
  },
  {
   "cell_type": "code",
   "execution_count": 5,
   "id": "5314dff6-e4a7-4d28-8988-79437d7d53ff",
   "metadata": {},
   "outputs": [
    {
     "name": "stdout",
     "output_type": "stream",
     "text": [
      "1\n"
     ]
    }
   ],
   "source": [
    "# Modulus operator(%):\n",
    "# Modolus operator is used to give the remainder of the division\n",
    "x = 5\n",
    "y = 2\n",
    "print(x%y)"
   ]
  },
  {
   "cell_type": "code",
   "execution_count": 6,
   "id": "4f501044-57c5-43fd-bd86-e63975e175c0",
   "metadata": {},
   "outputs": [
    {
     "name": "stdout",
     "output_type": "stream",
     "text": [
      "160000\n"
     ]
    }
   ],
   "source": [
    "# Exponential operaor:(**)\n",
    "# It multple the first number given by second number of time\n",
    "a = 20\n",
    "b = 4\n",
    "print(a**b)"
   ]
  },
  {
   "cell_type": "code",
   "execution_count": 7,
   "id": "b6c01b57-07f5-42ce-9854-33ab29514219",
   "metadata": {},
   "outputs": [
    {
     "name": "stdout",
     "output_type": "stream",
     "text": [
      "3\n"
     ]
    }
   ],
   "source": [
    "# floor division operato (//)\n",
    "# It gives the values to the nearest perfect value\n",
    "x = 20\n",
    "y = 6\n",
    "print(x//y)"
   ]
  },
  {
   "cell_type": "code",
   "execution_count": null,
   "id": "259e7ed6-a4b9-43b2-83f6-7c0626f6a061",
   "metadata": {},
   "outputs": [],
   "source": []
  },
  {
   "cell_type": "code",
   "execution_count": null,
   "id": "2f902bbc-326b-4625-ae34-04617649be91",
   "metadata": {},
   "outputs": [],
   "source": []
  },
  {
   "cell_type": "code",
   "execution_count": null,
   "id": "78e581c7-f840-40e0-aa69-b2394eabef9d",
   "metadata": {},
   "outputs": [],
   "source": []
  },
  {
   "cell_type": "code",
   "execution_count": null,
   "id": "68d94fb5-0e30-4c8c-ad2c-e8e48d7a0f14",
   "metadata": {},
   "outputs": [],
   "source": [
    "# Comparison operator"
   ]
  },
  {
   "cell_type": "code",
   "execution_count": null,
   "id": "e47a2009-393b-45b2-92d7-49512ec04e65",
   "metadata": {},
   "outputs": [],
   "source": [
    "# comparision operator is used to compare the value"
   ]
  },
  {
   "cell_type": "code",
   "execution_count": 8,
   "id": "c8af28f5-a698-4866-b3de-474693c01c27",
   "metadata": {},
   "outputs": [
    {
     "name": "stdout",
     "output_type": "stream",
     "text": [
      "True\n"
     ]
    }
   ],
   "source": [
    "# equal to (==):\n",
    "# it gives true answer if both the values are equal\n",
    "a = 20\n",
    "b = 20\n",
    "print(a==b)"
   ]
  },
  {
   "cell_type": "code",
   "execution_count": 9,
   "id": "21d732eb-b3fe-49a7-952d-3477808098e7",
   "metadata": {},
   "outputs": [
    {
     "name": "stdout",
     "output_type": "stream",
     "text": [
      "True\n"
     ]
    }
   ],
   "source": [
    "# not equal to (!=):\n",
    "# It gives the true if both values are not equal\n",
    "a = 20\n",
    "b = 25\n",
    "print(a!=b)"
   ]
  },
  {
   "cell_type": "code",
   "execution_count": 10,
   "id": "91f48f6c-e603-4692-b8f9-66930e888cef",
   "metadata": {},
   "outputs": [
    {
     "name": "stdout",
     "output_type": "stream",
     "text": [
      "False\n"
     ]
    }
   ],
   "source": [
    "# greater than (>):\n",
    "# It gives the true if the mention values is greater than other\n",
    "a = 20\n",
    "b = 22\n",
    "print(a>b)"
   ]
  },
  {
   "cell_type": "code",
   "execution_count": 11,
   "id": "adfbc0fa-75ce-4fa6-b89b-24f041a78038",
   "metadata": {},
   "outputs": [
    {
     "name": "stdout",
     "output_type": "stream",
     "text": [
      "True\n"
     ]
    }
   ],
   "source": [
    "# less than (<):\n",
    "# It gives the true if the mention vale is less than other\n",
    "a = 20\n",
    "b = 19\n",
    "print(b<a)"
   ]
  },
  {
   "cell_type": "code",
   "execution_count": null,
   "id": "5a45471e-a164-4c94-8768-7a59da092e4f",
   "metadata": {},
   "outputs": [],
   "source": [
    "# Greater than equal to (>=)\n",
    "# Less than equal to (<=)"
   ]
  }
 ],
 "metadata": {
  "kernelspec": {
   "display_name": "Python 3 (ipykernel)",
   "language": "python",
   "name": "python3"
  },
  "language_info": {
   "codemirror_mode": {
    "name": "ipython",
    "version": 3
   },
   "file_extension": ".py",
   "mimetype": "text/x-python",
   "name": "python",
   "nbconvert_exporter": "python",
   "pygments_lexer": "ipython3",
   "version": "3.12.1"
  }
 },
 "nbformat": 4,
 "nbformat_minor": 5
}
