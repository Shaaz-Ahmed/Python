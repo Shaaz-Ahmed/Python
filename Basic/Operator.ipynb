{
 "cells": [
  {
   "cell_type": "code",
   "execution_count": null,
   "id": "317c0bbf-972d-4ed7-a88d-d9bec80634b0",
   "metadata": {},
   "outputs": [],
   "source": [
    "# Operator:"
   ]
  },
  {
   "cell_type": "code",
   "execution_count": null,
   "id": "f9bdc0e8-68cd-4566-8334-54c89ba366da",
   "metadata": {},
   "outputs": [],
   "source": [
    "# operator are used to perform operation on values\n",
    "# operator are:\n",
    "# 1. Arithematic opeartor\n",
    "# 2. Logical Operator\n",
    "# 3. Comparsion operator\n",
    "# 4. Assignment operator\n",
    "# 5. Identity operator\n",
    "# 6. Membership operator"
   ]
  },
  {
   "cell_type": "code",
   "execution_count": null,
   "id": "9e121849-b482-4d3e-9fec-4958c3f70387",
   "metadata": {},
   "outputs": [],
   "source": []
  },
  {
   "cell_type": "code",
   "execution_count": null,
   "id": "9fd5eec7-66b5-47d1-9e42-928408bba7af",
   "metadata": {},
   "outputs": [],
   "source": []
  },
  {
   "cell_type": "code",
   "execution_count": null,
   "id": "ebc82420-04fe-4cf5-98d6-fcd60fb81ba7",
   "metadata": {},
   "outputs": [],
   "source": [
    "# Assignment Opeartor:"
   ]
  },
  {
   "cell_type": "code",
   "execution_count": null,
   "id": "2173dfd8-e080-4a8b-ab39-8c211cc54ade",
   "metadata": {},
   "outputs": [],
   "source": [
    "# Assignment operator are used to perform as basic opeartion like\n",
    "# + - * / %"
   ]
  },
  {
   "cell_type": "code",
   "execution_count": 1,
   "id": "3a322ed3-0897-4336-bbbf-85765151e6a1",
   "metadata": {},
   "outputs": [
    {
     "name": "stdout",
     "output_type": "stream",
     "text": [
      "30\n"
     ]
    }
   ],
   "source": [
    "# + Addition operator : It ised to add two numbers\n",
    "x = 10\n",
    "y = 20\n",
    "print(x+y)"
   ]
  },
  {
   "cell_type": "code",
   "execution_count": 2,
   "id": "aa58a638-4f9c-48b4-85cd-c44a3b3271c7",
   "metadata": {},
   "outputs": [
    {
     "name": "stdout",
     "output_type": "stream",
     "text": [
      "10\n"
     ]
    }
   ],
   "source": [
    "# Subtraction Operator (-):\n",
    "# used to perform subtraction on two number \n",
    "x = 20\n",
    "y = 10\n",
    "print(x-y)"
   ]
  },
  {
   "cell_type": "code",
   "execution_count": 3,
   "id": "3006e816-c84b-4e03-8781-8bc81a4dda50",
   "metadata": {},
   "outputs": [
    {
     "name": "stdout",
     "output_type": "stream",
     "text": [
      "200\n"
     ]
    }
   ],
   "source": [
    "# Multiplication Operator (*):\n",
    "# It is used to multiply two numbers\n",
    "x = 20\n",
    "y= 10\n",
    "print(x*y)"
   ]
  },
  {
   "cell_type": "code",
   "execution_count": 4,
   "id": "df6380bc-7aa4-4639-a018-a391ad884513",
   "metadata": {},
   "outputs": [
    {
     "name": "stdout",
     "output_type": "stream",
     "text": [
      "5.0\n"
     ]
    }
   ],
   "source": [
    "# Division operator (/):\n",
    "# It is used to divide the two numbers\n",
    "x = 20\n",
    "y = 4\n",
    "print(x/y)"
   ]
  },
  {
   "cell_type": "code",
   "execution_count": 5,
   "id": "5314dff6-e4a7-4d28-8988-79437d7d53ff",
   "metadata": {},
   "outputs": [
    {
     "name": "stdout",
     "output_type": "stream",
     "text": [
      "1\n"
     ]
    }
   ],
   "source": [
    "# Modulus operator(%):\n",
    "# Modolus operator is used to give the remainder of the division\n",
    "x = 5\n",
    "y = 2\n",
    "print(x%y)"
   ]
  },
  {
   "cell_type": "code",
   "execution_count": 6,
   "id": "4f501044-57c5-43fd-bd86-e63975e175c0",
   "metadata": {},
   "outputs": [
    {
     "name": "stdout",
     "output_type": "stream",
     "text": [
      "160000\n"
     ]
    }
   ],
   "source": [
    "# Exponential operaor:(**)\n",
    "# It multple the first number given by second number of time\n",
    "a = 20\n",
    "b = 4\n",
    "print(a**b)"
   ]
  },
  {
   "cell_type": "code",
   "execution_count": 7,
   "id": "b6c01b57-07f5-42ce-9854-33ab29514219",
   "metadata": {},
   "outputs": [
    {
     "name": "stdout",
     "output_type": "stream",
     "text": [
      "3\n"
     ]
    }
   ],
   "source": [
    "# floor division operato (//)\n",
    "# It gives the values to the nearest perfect value\n",
    "x = 20\n",
    "y = 6\n",
    "print(x//y)"
   ]
  },
  {
   "cell_type": "code",
   "execution_count": null,
   "id": "259e7ed6-a4b9-43b2-83f6-7c0626f6a061",
   "metadata": {},
   "outputs": [],
   "source": []
  },
  {
   "cell_type": "code",
   "execution_count": null,
   "id": "2f902bbc-326b-4625-ae34-04617649be91",
   "metadata": {},
   "outputs": [],
   "source": []
  },
  {
   "cell_type": "code",
   "execution_count": null,
   "id": "78e581c7-f840-40e0-aa69-b2394eabef9d",
   "metadata": {},
   "outputs": [],
   "source": []
  },
  {
   "cell_type": "code",
   "execution_count": null,
   "id": "68d94fb5-0e30-4c8c-ad2c-e8e48d7a0f14",
   "metadata": {},
   "outputs": [],
   "source": [
    "# Comparison operator"
   ]
  },
  {
   "cell_type": "code",
   "execution_count": null,
   "id": "e47a2009-393b-45b2-92d7-49512ec04e65",
   "metadata": {},
   "outputs": [],
   "source": [
    "# comparision operator is used to compare the value"
   ]
  },
  {
   "cell_type": "code",
   "execution_count": 8,
   "id": "c8af28f5-a698-4866-b3de-474693c01c27",
   "metadata": {},
   "outputs": [
    {
     "name": "stdout",
     "output_type": "stream",
     "text": [
      "True\n"
     ]
    }
   ],
   "source": [
    "# equal to (==):\n",
    "# it gives true answer if both the values are equal\n",
    "a = 20\n",
    "b = 20\n",
    "print(a==b)"
   ]
  },
  {
   "cell_type": "code",
   "execution_count": 9,
   "id": "21d732eb-b3fe-49a7-952d-3477808098e7",
   "metadata": {},
   "outputs": [
    {
     "name": "stdout",
     "output_type": "stream",
     "text": [
      "True\n"
     ]
    }
   ],
   "source": [
    "# not equal to (!=):\n",
    "# It gives the true if both values are not equal\n",
    "a = 20\n",
    "b = 25\n",
    "print(a!=b)"
   ]
  },
  {
   "cell_type": "code",
   "execution_count": 10,
   "id": "91f48f6c-e603-4692-b8f9-66930e888cef",
   "metadata": {},
   "outputs": [
    {
     "name": "stdout",
     "output_type": "stream",
     "text": [
      "False\n"
     ]
    }
   ],
   "source": [
    "# greater than (>):\n",
    "# It gives the true if the mention values is greater than other\n",
    "a = 20\n",
    "b = 22\n",
    "print(a>b)"
   ]
  },
  {
   "cell_type": "code",
   "execution_count": 11,
   "id": "adfbc0fa-75ce-4fa6-b89b-24f041a78038",
   "metadata": {},
   "outputs": [
    {
     "name": "stdout",
     "output_type": "stream",
     "text": [
      "True\n"
     ]
    }
   ],
   "source": [
    "# less than (<):\n",
    "# It gives the true if the mention vale is less than other\n",
    "a = 20\n",
    "b = 19\n",
    "print(b<a)"
   ]
  },
  {
   "cell_type": "code",
   "execution_count": null,
   "id": "5a45471e-a164-4c94-8768-7a59da092e4f",
   "metadata": {},
   "outputs": [],
   "source": [
    "# Greater than equal to (>=)\n",
    "# Less than equal to (<=)"
   ]
  },
  {
   "cell_type": "code",
   "execution_count": null,
   "id": "132de23b-9f58-4a9a-83c7-239606a1dcc3",
   "metadata": {},
   "outputs": [],
   "source": []
  },
  {
   "cell_type": "code",
   "execution_count": null,
   "id": "deaa5c25-1cd9-4195-99ec-bec585aafd56",
   "metadata": {},
   "outputs": [],
   "source": []
  },
  {
   "cell_type": "code",
   "execution_count": null,
   "id": "36ccd4cb-c031-4e45-9a95-52415f1f62ef",
   "metadata": {},
   "outputs": [],
   "source": []
  },
  {
   "cell_type": "code",
   "execution_count": null,
   "id": "2229b099-1257-4bdc-9473-1973fa9dc559",
   "metadata": {},
   "outputs": [],
   "source": [
    "# Logical Operator"
   ]
  },
  {
   "cell_type": "code",
   "execution_count": null,
   "id": "9967e28e-403f-41ef-879c-6573309b5386",
   "metadata": {},
   "outputs": [],
   "source": [
    "# logical operator are used to combine the conditional statement\n",
    "# there are three logical operator\n",
    "# 1. and\n",
    "# 2. or\n",
    "# 3. not"
   ]
  },
  {
   "cell_type": "code",
   "execution_count": 1,
   "id": "da447b4f-2423-4359-a579-90a4ba153607",
   "metadata": {},
   "outputs": [
    {
     "name": "stdout",
     "output_type": "stream",
     "text": [
      "True\n"
     ]
    }
   ],
   "source": [
    "# and : It returns the true when both the condition are true\n",
    "x = 20;\n",
    "print(x>10 and x < 21)"
   ]
  },
  {
   "cell_type": "code",
   "execution_count": 2,
   "id": "8f69e082-961f-435c-aab2-f5bfb5cb6eed",
   "metadata": {},
   "outputs": [
    {
     "name": "stdout",
     "output_type": "stream",
     "text": [
      "False\n"
     ]
    }
   ],
   "source": [
    "x = 20 \n",
    "print(x<20 and x>21)"
   ]
  },
  {
   "cell_type": "code",
   "execution_count": null,
   "id": "b56acbad-e459-49ab-9227-547e3ee2a361",
   "metadata": {},
   "outputs": [],
   "source": [
    "# OR : It returns the true when single statement is true"
   ]
  },
  {
   "cell_type": "code",
   "execution_count": 3,
   "id": "6dd84d99-30bf-43a8-9d66-d1658c7fd44c",
   "metadata": {},
   "outputs": [
    {
     "name": "stdout",
     "output_type": "stream",
     "text": [
      "True\n"
     ]
    }
   ],
   "source": [
    "x = 20\n",
    "print(x<10 or x>15)"
   ]
  },
  {
   "cell_type": "code",
   "execution_count": null,
   "id": "55301445-d11f-4df3-b21d-54f01f51da3c",
   "metadata": {},
   "outputs": [],
   "source": [
    "# not : it return true if answer is false and it return false when answer is true"
   ]
  },
  {
   "cell_type": "code",
   "execution_count": 4,
   "id": "ea5ef35e-f2df-49e1-9a0f-223c69b46de6",
   "metadata": {},
   "outputs": [
    {
     "name": "stdout",
     "output_type": "stream",
     "text": [
      "True\n"
     ]
    }
   ],
   "source": [
    "a = 20\n",
    "print(not(x>10 and x<20))"
   ]
  },
  {
   "cell_type": "code",
   "execution_count": null,
   "id": "db9d88fe-0c7f-410f-8b5c-348dac9408ac",
   "metadata": {},
   "outputs": [],
   "source": []
  },
  {
   "cell_type": "code",
   "execution_count": null,
   "id": "a86189c8-5409-4443-8a88-1dccc90c5f1f",
   "metadata": {},
   "outputs": [],
   "source": []
  },
  {
   "cell_type": "code",
   "execution_count": null,
   "id": "0b56b1b8-aa73-4cf3-9f66-f2acc2e1e4e6",
   "metadata": {},
   "outputs": [],
   "source": []
  },
  {
   "cell_type": "code",
   "execution_count": null,
   "id": "89e59e62-4c34-4a72-8a6d-55ab3d14473b",
   "metadata": {},
   "outputs": [],
   "source": [
    "# Membership operator:"
   ]
  },
  {
   "cell_type": "code",
   "execution_count": null,
   "id": "61c9d47f-52ce-43e8-87e3-ab588d323e57",
   "metadata": {},
   "outputs": [],
   "source": [
    "# it is used to check weather the value is present sequenece or not\n",
    "# membership operator is used to check that the values is there in the sequence or not\n",
    "# There are two operator inside the membership operator\n",
    "# 1. in :\n",
    "# 2. not in:"
   ]
  },
  {
   "cell_type": "code",
   "execution_count": 5,
   "id": "b0ce91c9-12b4-46f9-b88b-2a344463b0f6",
   "metadata": {},
   "outputs": [
    {
     "name": "stdout",
     "output_type": "stream",
     "text": [
      "False\n"
     ]
    }
   ],
   "source": [
    "str = \"Shaaz Mukadam\"\n",
    "print('j' in str)"
   ]
  },
  {
   "cell_type": "code",
   "execution_count": 7,
   "id": "78470931-a9dd-4df4-b067-e7e51938f04f",
   "metadata": {},
   "outputs": [
    {
     "name": "stdout",
     "output_type": "stream",
     "text": [
      "True\n"
     ]
    }
   ],
   "source": [
    "lst1 = [10,20,30,40]\n",
    "print(20  in lst1)"
   ]
  },
  {
   "cell_type": "code",
   "execution_count": 8,
   "id": "50392352-10b4-4952-b6aa-63be22bf7c39",
   "metadata": {},
   "outputs": [
    {
     "name": "stdout",
     "output_type": "stream",
     "text": [
      "True\n"
     ]
    }
   ],
   "source": [
    "name = \"Shaaz Mukadam\"\n",
    "print('S' in name)"
   ]
  },
  {
   "cell_type": "code",
   "execution_count": null,
   "id": "09ad5869-cb59-41e4-b813-342ab36ef45d",
   "metadata": {},
   "outputs": [],
   "source": [
    "# not in: it will return true when it will not present in the sequence"
   ]
  },
  {
   "cell_type": "code",
   "execution_count": 9,
   "id": "edab848c-ad89-4389-bb75-c02815d9af43",
   "metadata": {},
   "outputs": [
    {
     "name": "stdout",
     "output_type": "stream",
     "text": [
      "True\n"
     ]
    }
   ],
   "source": [
    "name = \"Shaaz Mukadam\"\n",
    "print('f' not in name)"
   ]
  },
  {
   "cell_type": "code",
   "execution_count": null,
   "id": "9e2e2efa-8a15-4c29-9c7c-9a743523a1c8",
   "metadata": {},
   "outputs": [],
   "source": []
  }
 ],
 "metadata": {
  "kernelspec": {
   "display_name": "Python 3 (ipykernel)",
   "language": "python",
   "name": "python3"
  },
  "language_info": {
   "codemirror_mode": {
    "name": "ipython",
    "version": 3
   },
   "file_extension": ".py",
   "mimetype": "text/x-python",
   "name": "python",
   "nbconvert_exporter": "python",
   "pygments_lexer": "ipython3",
   "version": "3.12.1"
  }
 },
 "nbformat": 4,
 "nbformat_minor": 5
}
