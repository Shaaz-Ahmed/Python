{
 "cells": [
  {
   "cell_type": "code",
   "execution_count": null,
   "id": "5cbb7eb2-7205-4b7d-bbd5-d94994c8d85a",
   "metadata": {},
   "outputs": [],
   "source": [
    "# Numpy"
   ]
  },
  {
   "cell_type": "code",
   "execution_count": null,
   "id": "1c1407a6-969f-441a-9d1c-51b9fb627a70",
   "metadata": {},
   "outputs": [],
   "source": [
    "# Numpy is a python library that is used for working with the array \n",
    "# Numpy stands for numerical python\n",
    "# Numpy had a domain function of linear algebra , matrices , fourier transform\n",
    "# Numpy is faster than the python list , because numpy array store at single location\n"
   ]
  },
  {
   "cell_type": "code",
   "execution_count": 4,
   "id": "9ecbf449-b8b2-462e-b6de-07275687c558",
   "metadata": {},
   "outputs": [],
   "source": [
    "# You need to first install the numpy before using it in your project"
   ]
  },
  {
   "cell_type": "code",
   "execution_count": 3,
   "id": "1c1b325d-9a1a-4a06-8c71-85e75e0edf65",
   "metadata": {},
   "outputs": [
    {
     "name": "stdout",
     "output_type": "stream",
     "text": [
      "Requirement already satisfied: numpy in c:\\users\\shaaz\\appdata\\local\\programs\\python\\python312\\lib\\site-packages (1.26.3)Note: you may need to restart the kernel to use updated packages.\n",
      "\n"
     ]
    },
    {
     "name": "stderr",
     "output_type": "stream",
     "text": [
      "\n",
      "[notice] A new release of pip is available: 23.2.1 -> 24.1.2\n",
      "[notice] To update, run: python.exe -m pip install --upgrade pip\n"
     ]
    }
   ],
   "source": [
    "pip install numpy"
   ]
  },
  {
   "cell_type": "code",
   "execution_count": null,
   "id": "727a139f-a4c7-41a6-9c77-609a24f6cca9",
   "metadata": {},
   "outputs": [],
   "source": [
    "# once you installed then you need to import it in your project"
   ]
  },
  {
   "cell_type": "code",
   "execution_count": 5,
   "id": "4215fb71-8000-4345-8e58-28c7dd61f625",
   "metadata": {},
   "outputs": [
    {
     "name": "stdout",
     "output_type": "stream",
     "text": [
      "[10 20 30 40]\n"
     ]
    }
   ],
   "source": [
    "import numpy as np\n",
    "arr=np.array([10,20,30,40])\n",
    "print(arr)\n",
    "# import is keyword numpy is module name \n",
    "# np is alias it mran it referring to the same thing and as is keyword for alias"
   ]
  },
  {
   "cell_type": "code",
   "execution_count": 6,
   "id": "5017053a-10bd-4ec4-b761-e74ec3439795",
   "metadata": {},
   "outputs": [
    {
     "name": "stdout",
     "output_type": "stream",
     "text": [
      "[10 20 30]\n"
     ]
    }
   ],
   "source": [
    "import numpy as np\n",
    "arr = np.array([10,20,30])\n",
    "print(arr)"
   ]
  },
  {
   "cell_type": "code",
   "execution_count": null,
   "id": "6f5f41d1-def1-4475-a382-52baabebb630",
   "metadata": {},
   "outputs": [],
   "source": []
  },
  {
   "cell_type": "code",
   "execution_count": null,
   "id": "f45fd794-4945-4342-818f-dc8758d7fab7",
   "metadata": {},
   "outputs": [],
   "source": []
  },
  {
   "cell_type": "code",
   "execution_count": null,
   "id": "d2839c45-3859-4c77-b726-ffccfe27fdec",
   "metadata": {},
   "outputs": [],
   "source": []
  },
  {
   "cell_type": "code",
   "execution_count": null,
   "id": "956beb53-3bb6-4775-8f99-8692fc2e5ff7",
   "metadata": {},
   "outputs": [],
   "source": [
    "# Creating the array "
   ]
  },
  {
   "cell_type": "code",
   "execution_count": null,
   "id": "ee07d7cf-617b-4bad-a377-a4aafcfd6828",
   "metadata": {},
   "outputs": [],
   "source": [
    "# Numpy is used with working with the array\n",
    "# The array object in numpy is ndarray\n",
    "# we can pass any tuple , list or array like function insdie the numpy"
   ]
  },
  {
   "cell_type": "code",
   "execution_count": 7,
   "id": "f8e11292-c759-4134-9028-18d79a317361",
   "metadata": {},
   "outputs": [
    {
     "name": "stdout",
     "output_type": "stream",
     "text": [
      "[1 2 3 4]\n"
     ]
    }
   ],
   "source": [
    "arr = np.array((1,2,3,4))\n",
    "print(arr)"
   ]
  },
  {
   "cell_type": "code",
   "execution_count": null,
   "id": "9746fcc0-1109-4db2-b5e2-68a47a7b51ff",
   "metadata": {},
   "outputs": [],
   "source": []
  },
  {
   "cell_type": "code",
   "execution_count": 8,
   "id": "749dfc79-c6da-4f93-b6dc-c246936c564b",
   "metadata": {},
   "outputs": [],
   "source": [
    "# Dimensions in array"
   ]
  },
  {
   "cell_type": "code",
   "execution_count": 9,
   "id": "c4866677-5d05-44e1-9ddd-9ceddc6d34ba",
   "metadata": {},
   "outputs": [],
   "source": [
    "# 0-D\n",
    "# 1-D\n",
    "# 2-D\n",
    "# 3-D"
   ]
  },
  {
   "cell_type": "code",
   "execution_count": 10,
   "id": "b489bebd-7894-4105-b868-324d6e5c8f8e",
   "metadata": {},
   "outputs": [
    {
     "name": "stdout",
     "output_type": "stream",
     "text": [
      "16\n"
     ]
    }
   ],
   "source": [
    "# 0-D\n",
    "arr = np.array(16)\n",
    "print(arr)"
   ]
  },
  {
   "cell_type": "code",
   "execution_count": 11,
   "id": "55f50df1-34a3-4c25-a24e-ba6c094e0d69",
   "metadata": {},
   "outputs": [
    {
     "name": "stdout",
     "output_type": "stream",
     "text": [
      "[10 20 30 40]\n"
     ]
    }
   ],
   "source": [
    "# 1-D \n",
    "arr = np.array([10,20,30,40])\n",
    "print(arr)"
   ]
  },
  {
   "cell_type": "code",
   "execution_count": 12,
   "id": "b486063e-8993-4256-8893-fc360f311cb2",
   "metadata": {},
   "outputs": [
    {
     "name": "stdout",
     "output_type": "stream",
     "text": [
      "[[10 20 30]\n",
      " [10 20 30]]\n"
     ]
    }
   ],
   "source": [
    "# 2-D \n",
    "arr = np.array([[10,20,30],[10,20,30]])\n",
    "print(arr)"
   ]
  },
  {
   "cell_type": "code",
   "execution_count": 26,
   "id": "a6470b87-d32d-444c-97ae-29d7840e08de",
   "metadata": {},
   "outputs": [
    {
     "name": "stdout",
     "output_type": "stream",
     "text": [
      "[[[10 20 30]\n",
      "  [40 50 60]]\n",
      "\n",
      " [[10 20 30]\n",
      "  [40 50 60]]]\n"
     ]
    }
   ],
   "source": [
    "arr = np.array([[[10,20,30],[40,50,60]],[[10,20,30],[40,50,60]]])\n",
    "print(arr)"
   ]
  },
  {
   "cell_type": "code",
   "execution_count": 18,
   "id": "ba1fcf3f-3bec-40d1-a093-01e5672303d3",
   "metadata": {},
   "outputs": [],
   "source": [
    "# How to check the array dimensions\n",
    "# to check the array dimension we can make use of ndim function\n"
   ]
  },
  {
   "cell_type": "code",
   "execution_count": 20,
   "id": "d27787d6-710a-42b4-b3a8-e7fd731d0f49",
   "metadata": {},
   "outputs": [
    {
     "name": "stdout",
     "output_type": "stream",
     "text": [
      "1\n"
     ]
    }
   ],
   "source": [
    "arr = np.array([10,20,30,40,50])\n",
    "print(arr.ndim)"
   ]
  },
  {
   "cell_type": "code",
   "execution_count": null,
   "id": "3c5b6c0c-ce11-4bbc-a8e1-a1001ccefff9",
   "metadata": {},
   "outputs": [],
   "source": []
  },
  {
   "cell_type": "code",
   "execution_count": null,
   "id": "2535094b-2d9b-4445-8662-c92bc48acf95",
   "metadata": {},
   "outputs": [],
   "source": []
  },
  {
   "cell_type": "code",
   "execution_count": null,
   "id": "11d0a866-0f06-4468-9a85-4563d3c32d79",
   "metadata": {},
   "outputs": [],
   "source": []
  },
  {
   "cell_type": "code",
   "execution_count": 21,
   "id": "454b6e8d-3769-4fe1-bf05-f5cb52167018",
   "metadata": {},
   "outputs": [],
   "source": [
    "# Accessing the array element"
   ]
  },
  {
   "cell_type": "code",
   "execution_count": 22,
   "id": "b0b1beb9-39ce-4493-ada6-0d501250dcab",
   "metadata": {},
   "outputs": [],
   "source": [
    "# We can access the array index using the array index\n",
    "# array index always starts with zero , than one and so on"
   ]
  },
  {
   "cell_type": "code",
   "execution_count": 23,
   "id": "15504fb5-780b-4246-98c1-ef801358915b",
   "metadata": {},
   "outputs": [
    {
     "name": "stdout",
     "output_type": "stream",
     "text": [
      "20\n"
     ]
    }
   ],
   "source": [
    "arr = np.array([10,20,30,40,50])\n",
    "print(arr[1])\n",
    "# Here we accessed the first index element"
   ]
  },
  {
   "cell_type": "code",
   "execution_count": 24,
   "id": "cdcae19b-a539-4e3a-938a-97f910ad6fa0",
   "metadata": {},
   "outputs": [],
   "source": [
    "# 2-D element access"
   ]
  },
  {
   "cell_type": "code",
   "execution_count": 25,
   "id": "98613fff-cea3-4bf7-9cfd-c9120b5bea4e",
   "metadata": {},
   "outputs": [
    {
     "name": "stdout",
     "output_type": "stream",
     "text": [
      "70\n"
     ]
    }
   ],
   "source": [
    "arr = np.array([[10,20,30,40],[50,60,70,80]])\n",
    "print(arr[1,2])"
   ]
  },
  {
   "cell_type": "code",
   "execution_count": null,
   "id": "a735e0d2-9e40-4c7a-a4fe-2ea28daec84c",
   "metadata": {},
   "outputs": [],
   "source": []
  },
  {
   "cell_type": "code",
   "execution_count": null,
   "id": "6ffd4a0f-8d75-45fa-8240-e79298a4a635",
   "metadata": {},
   "outputs": [],
   "source": []
  },
  {
   "cell_type": "code",
   "execution_count": null,
   "id": "830dbb6c-5fae-4341-bc75-8a5d32dbae83",
   "metadata": {},
   "outputs": [],
   "source": []
  },
  {
   "cell_type": "code",
   "execution_count": 27,
   "id": "395047f1-b357-44a1-ab75-aec0a5616344",
   "metadata": {},
   "outputs": [],
   "source": [
    "# Slicing"
   ]
  },
  {
   "cell_type": "code",
   "execution_count": 28,
   "id": "46640d58-0256-4414-8e07-7b502cd805f9",
   "metadata": {},
   "outputs": [],
   "source": [
    "# slicing means taking element from one index to another given index"
   ]
  },
  {
   "cell_type": "code",
   "execution_count": 29,
   "id": "e8389ad1-3651-42ed-9b08-dc4f45b045b3",
   "metadata": {},
   "outputs": [
    {
     "name": "stdout",
     "output_type": "stream",
     "text": [
      "[20 30]\n"
     ]
    }
   ],
   "source": [
    "arr = np.array([10,20,30,40,50])\n",
    "print(arr[1:3])"
   ]
  },
  {
   "cell_type": "code",
   "execution_count": 30,
   "id": "e111e205-d04b-4609-939d-8605c213ce21",
   "metadata": {},
   "outputs": [],
   "source": [
    "# slicing from first to given index"
   ]
  },
  {
   "cell_type": "code",
   "execution_count": 31,
   "id": "243b8297-53ee-4b70-b7fb-0c763641fd81",
   "metadata": {},
   "outputs": [
    {
     "name": "stdout",
     "output_type": "stream",
     "text": [
      "[10 20 30]\n"
     ]
    }
   ],
   "source": [
    "arr = np.array([10,20,30,40,50])\n",
    "print(arr[:3])"
   ]
  },
  {
   "cell_type": "code",
   "execution_count": 32,
   "id": "57606b1a-bffe-4aec-af68-11305826cec7",
   "metadata": {},
   "outputs": [],
   "source": [
    "# slicing from any particular index to last index"
   ]
  },
  {
   "cell_type": "code",
   "execution_count": 33,
   "id": "078ce07a-971c-4fb1-89dd-3b3840ef42e9",
   "metadata": {},
   "outputs": [
    {
     "name": "stdout",
     "output_type": "stream",
     "text": [
      "[40 50]\n"
     ]
    }
   ],
   "source": [
    "arr = np.array([10,20,30,40,50])\n",
    "print(arr[3:])"
   ]
  },
  {
   "cell_type": "code",
   "execution_count": 34,
   "id": "c4da5088-5ca7-4aca-b756-f42cf404fcae",
   "metadata": {},
   "outputs": [],
   "source": [
    "# Return every other element"
   ]
  },
  {
   "cell_type": "code",
   "execution_count": 37,
   "id": "6144ef7b-2e0e-4539-969d-78892138679a",
   "metadata": {},
   "outputs": [
    {
     "name": "stdout",
     "output_type": "stream",
     "text": [
      "[10 40 70]\n"
     ]
    }
   ],
   "source": [
    "arr = np.array([10,20,30,40,50,60,70,80,90])\n",
    "print(arr[::3])"
   ]
  },
  {
   "cell_type": "code",
   "execution_count": null,
   "id": "730eb3f6-245b-42b1-a3b7-c75de06e029b",
   "metadata": {},
   "outputs": [],
   "source": []
  },
  {
   "cell_type": "code",
   "execution_count": null,
   "id": "6257ba9b-f9f3-4c11-97fa-05bf71ee8a48",
   "metadata": {},
   "outputs": [],
   "source": []
  },
  {
   "cell_type": "code",
   "execution_count": null,
   "id": "7898b90e-4454-4fd4-b625-8b4a568eaf49",
   "metadata": {},
   "outputs": [],
   "source": []
  },
  {
   "cell_type": "code",
   "execution_count": 38,
   "id": "b4e7bf71-f1b0-40c4-a39d-faad8867a1bb",
   "metadata": {},
   "outputs": [],
   "source": [
    "# Shape"
   ]
  },
  {
   "cell_type": "code",
   "execution_count": 39,
   "id": "83f7cb7a-db78-4ef6-acb4-88eceda400a7",
   "metadata": {},
   "outputs": [],
   "source": [
    "# Shap of an array is the numerb of an a element in each dimensions"
   ]
  },
  {
   "cell_type": "code",
   "execution_count": 40,
   "id": "78e6f0bb-13e1-421c-9bff-7336a9772c43",
   "metadata": {},
   "outputs": [
    {
     "name": "stdout",
     "output_type": "stream",
     "text": [
      "[[1 2 3 4]\n",
      " [5 6 7 8]]\n"
     ]
    }
   ],
   "source": [
    "import numpy as np\n",
    "\n",
    "arr = np.array([[1, 2, 3, 4], [5, 6, 7, 8]])\n",
    "\n",
    "print(arr)\n"
   ]
  },
  {
   "cell_type": "code",
   "execution_count": null,
   "id": "5551a12d-db34-4af3-be77-22e4da56776b",
   "metadata": {},
   "outputs": [],
   "source": []
  },
  {
   "cell_type": "code",
   "execution_count": null,
   "id": "b0b78730-38f2-4d1e-bc06-5d9506c3ce9d",
   "metadata": {},
   "outputs": [],
   "source": []
  },
  {
   "cell_type": "code",
   "execution_count": null,
   "id": "88327b0a-a6c5-4b1d-a23a-fc9e077c0871",
   "metadata": {},
   "outputs": [],
   "source": []
  },
  {
   "cell_type": "code",
   "execution_count": 41,
   "id": "d873c7f0-f518-4f09-9c18-442d7cfa6b4f",
   "metadata": {},
   "outputs": [],
   "source": [
    "# Reshape array"
   ]
  },
  {
   "cell_type": "code",
   "execution_count": 42,
   "id": "db01bc9e-771e-4cc3-a504-a775396bcd87",
   "metadata": {},
   "outputs": [],
   "source": [
    "# Reshape array means changing the shape of an array"
   ]
  },
  {
   "cell_type": "code",
   "execution_count": 49,
   "id": "6d76fb09-8294-4676-9640-927ad21b21da",
   "metadata": {},
   "outputs": [
    {
     "name": "stdout",
     "output_type": "stream",
     "text": [
      "[[10 20 30]\n",
      " [40 50 60]\n",
      " [70 80 90]\n",
      " [10 11 12]]\n"
     ]
    }
   ],
   "source": [
    "arr = np.array ([10,20,30,40,50,60,70,80,90,10,11,12])\n",
    "newarr = arr.reshape(4,3)\n",
    "print(newarr)"
   ]
  },
  {
   "cell_type": "code",
   "execution_count": null,
   "id": "97af70a0-a36b-4018-9f37-2aab15ec1116",
   "metadata": {},
   "outputs": [],
   "source": []
  },
  {
   "cell_type": "code",
   "execution_count": null,
   "id": "35a7f4b1-a2f0-4798-9541-79553e2e868c",
   "metadata": {},
   "outputs": [],
   "source": []
  },
  {
   "cell_type": "code",
   "execution_count": null,
   "id": "5ae7f1d3-32ff-42ed-a7c0-d9f87fee9834",
   "metadata": {},
   "outputs": [],
   "source": []
  },
  {
   "cell_type": "code",
   "execution_count": 50,
   "id": "257edb1b-253b-4df1-822c-978935a20ac2",
   "metadata": {},
   "outputs": [],
   "source": [
    "# Join array"
   ]
  },
  {
   "cell_type": "code",
   "execution_count": 51,
   "id": "3684d67b-0dcc-4858-af58-6f3bc3385cad",
   "metadata": {},
   "outputs": [],
   "source": [
    "# join array me we have to join two array using the function called concatenate() "
   ]
  },
  {
   "cell_type": "code",
   "execution_count": 52,
   "id": "2e36c6bd-0f3e-4e18-a940-4643ba28b2b5",
   "metadata": {},
   "outputs": [
    {
     "name": "stdout",
     "output_type": "stream",
     "text": [
      "[10 20 30 40 50 60]\n"
     ]
    }
   ],
   "source": [
    "arr1 = np.array([10,20,30])\n",
    "arr2 = np.array([40,50,60])\n",
    "arr = np.concatenate((arr1,arr2))\n",
    "print(arr)"
   ]
  },
  {
   "cell_type": "code",
   "execution_count": null,
   "id": "a8b85bb0-31e0-4d37-9413-d9d1cd55408c",
   "metadata": {},
   "outputs": [],
   "source": []
  },
  {
   "cell_type": "code",
   "execution_count": null,
   "id": "b8efda2f-9f3d-4702-9672-2863113e2f2d",
   "metadata": {},
   "outputs": [],
   "source": []
  },
  {
   "cell_type": "code",
   "execution_count": 53,
   "id": "bc405c15-b01f-412f-be9e-115f58c210b4",
   "metadata": {},
   "outputs": [],
   "source": [
    "# Search"
   ]
  },
  {
   "cell_type": "code",
   "execution_count": 54,
   "id": "ca2319cf-741c-4d50-bd5e-c1e9e3fbb58a",
   "metadata": {},
   "outputs": [],
   "source": [
    "# serach is used to find the elemnt to that we make use of where() function"
   ]
  },
  {
   "cell_type": "code",
   "execution_count": 55,
   "id": "35d46db4-2a82-4b26-a24d-761557fee076",
   "metadata": {},
   "outputs": [
    {
     "name": "stdout",
     "output_type": "stream",
     "text": [
      "(array([3, 5, 6], dtype=int64),)\n"
     ]
    }
   ],
   "source": [
    "import numpy as np\n",
    "\n",
    "arr = np.array([1, 2, 3, 4, 5, 4, 4])\n",
    "\n",
    "x = np.where(arr == 4)\n",
    "\n",
    "print(x)\n"
   ]
  },
  {
   "cell_type": "code",
   "execution_count": null,
   "id": "c1143f2e-16ad-4714-b3eb-32aff9aa312e",
   "metadata": {},
   "outputs": [],
   "source": []
  },
  {
   "cell_type": "code",
   "execution_count": null,
   "id": "9ebe7119-fb9d-44c6-bebe-d17f9f89e142",
   "metadata": {},
   "outputs": [],
   "source": []
  },
  {
   "cell_type": "code",
   "execution_count": 56,
   "id": "561ce741-0849-4adf-9725-5546dd8e7407",
   "metadata": {},
   "outputs": [],
   "source": [
    "# Sort"
   ]
  },
  {
   "cell_type": "code",
   "execution_count": 57,
   "id": "b7057298-9694-4c69-a79b-33df5d892a75",
   "metadata": {},
   "outputs": [],
   "source": [
    "# sort is used to sort the array either is ascendg or descending"
   ]
  },
  {
   "cell_type": "code",
   "execution_count": 58,
   "id": "0b02052f-c55c-48e1-942e-11698e77130c",
   "metadata": {},
   "outputs": [
    {
     "name": "stdout",
     "output_type": "stream",
     "text": [
      "[0 1 2 3]\n"
     ]
    }
   ],
   "source": [
    "import numpy as np\n",
    "\n",
    "arr = np.array([3, 2, 0, 1])\n",
    "\n",
    "print(np.sort(arr))\n"
   ]
  },
  {
   "cell_type": "code",
   "execution_count": null,
   "id": "abda57a3-8d94-4ab1-971c-e4e6eb5d7eef",
   "metadata": {},
   "outputs": [],
   "source": []
  }
 ],
 "metadata": {
  "kernelspec": {
   "display_name": "Python 3 (ipykernel)",
   "language": "python",
   "name": "python3"
  },
  "language_info": {
   "codemirror_mode": {
    "name": "ipython",
    "version": 3
   },
   "file_extension": ".py",
   "mimetype": "text/x-python",
   "name": "python",
   "nbconvert_exporter": "python",
   "pygments_lexer": "ipython3",
   "version": "3.12.1"
  }
 },
 "nbformat": 4,
 "nbformat_minor": 5
}
