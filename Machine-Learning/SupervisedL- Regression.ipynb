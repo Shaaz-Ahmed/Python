{
 "cells": [
  {
   "cell_type": "code",
   "execution_count": 1,
   "id": "0758122c-e65d-45bc-b1c2-d8c9500ef669",
   "metadata": {},
   "outputs": [],
   "source": [
    "# Supervised Learning"
   ]
  },
  {
   "cell_type": "code",
   "execution_count": 2,
   "id": "d1a5b429-a656-46da-a524-804d2a6f0453",
   "metadata": {},
   "outputs": [],
   "source": [
    "# Supervised Learning is categoried into two parts\n",
    "#  Regression             classification"
   ]
  },
  {
   "cell_type": "code",
   "execution_count": 3,
   "id": "f282ee2d-a41f-47a0-b8b3-0daf8c541c8e",
   "metadata": {},
   "outputs": [],
   "source": [
    "# Regression"
   ]
  },
  {
   "cell_type": "code",
   "execution_count": 4,
   "id": "e739786c-90c4-4f36-8f39-48386a850b64",
   "metadata": {},
   "outputs": [],
   "source": [
    "# Regression come under the supervised learning "
   ]
  },
  {
   "cell_type": "code",
   "execution_count": 5,
   "id": "2184ef5b-5733-4e71-9c95-4ee7311bd0d6",
   "metadata": {},
   "outputs": [],
   "source": [
    "# Regression : Regression help us to understand and predict the relationship betweeen two variables.\n",
    "# regression used where we have to predict the continious values"
   ]
  },
  {
   "cell_type": "code",
   "execution_count": 6,
   "id": "e64bdd56-7865-4abb-ba5c-00e9ed5e4320",
   "metadata": {},
   "outputs": [],
   "source": [
    "# There are two types of varibale inside the regression\n",
    "# Dependent variable          Independent variable"
   ]
  },
  {
   "cell_type": "code",
   "execution_count": 7,
   "id": "b6057a75-c0d5-4473-b64b-9255207050d5",
   "metadata": {},
   "outputs": [],
   "source": [
    "# Depenedent varibale : The variable which we have to predict is dependent variable\n",
    "# Independent variable : The variable which we have to use for the predicted varibale all varibale expect the final varibale are indepenedent variable"
   ]
  },
  {
   "cell_type": "code",
   "execution_count": 9,
   "id": "5ac518e2-dbf4-40fb-9ec6-204c7bd169c3",
   "metadata": {},
   "outputs": [],
   "source": [
    "# some common example of Regression:\n",
    "# 1. Predicting exams marks based on hour study\n",
    "# 2 Predicting house price\n",
    "# 3. Predicting resale price based on vehicle age"
   ]
  },
  {
   "cell_type": "code",
   "execution_count": null,
   "id": "c5954601-7233-4c68-a87a-8603bc774502",
   "metadata": {},
   "outputs": [],
   "source": []
  },
  {
   "cell_type": "code",
   "execution_count": null,
   "id": "b6f39695-ea6f-499d-874d-bae18cfcf5c8",
   "metadata": {},
   "outputs": [],
   "source": []
  },
  {
   "cell_type": "code",
   "execution_count": null,
   "id": "7b88f6ba-60dc-4d03-a12c-71ff17814ed8",
   "metadata": {},
   "outputs": [],
   "source": []
  },
  {
   "cell_type": "code",
   "execution_count": 10,
   "id": "0d4a6404-3f51-4ddb-ae55-0d84eff422be",
   "metadata": {},
   "outputs": [],
   "source": [
    "# Regression are again have three types\n",
    "# 1. Linear Regression\n",
    "# 2. Multi-Linear Regression\n",
    "# 3, Polynomial Regerssion"
   ]
  },
  {
   "cell_type": "code",
   "execution_count": null,
   "id": "e15db619-aa20-4c79-acf8-45b07808f452",
   "metadata": {},
   "outputs": [],
   "source": []
  },
  {
   "cell_type": "code",
   "execution_count": 11,
   "id": "e3ab20b8-33cf-4309-b83c-b3d2c713c55a",
   "metadata": {},
   "outputs": [],
   "source": [
    "# Linear Regression:"
   ]
  },
  {
   "cell_type": "code",
   "execution_count": 14,
   "id": "b725624e-5aec-4985-885e-b5392068fda1",
   "metadata": {},
   "outputs": [],
   "source": [
    "# Linear regression it is basic straight forward method used to understand the relationship between two things to make prediction\n",
    "# In linear regression there should be only one dependent variable and one indepenedent variable\n",
    "\n",
    "# the score is depend on the hour study \n",
    "# Here in linear regression there should be only two varibale one is dependent and other is independent\n",
    "\n",
    "# Formula: Exam_score = 10 X hours studied + 40"
   ]
  },
  {
   "cell_type": "code",
   "execution_count": null,
   "id": "b37cd13c-7345-4454-822c-52e59cd8e705",
   "metadata": {},
   "outputs": [],
   "source": []
  },
  {
   "cell_type": "code",
   "execution_count": 15,
   "id": "5ddc4da5-f987-4030-bc5a-579234a6105b",
   "metadata": {},
   "outputs": [],
   "source": [
    "# Multi Linear regression:"
   ]
  },
  {
   "cell_type": "code",
   "execution_count": 16,
   "id": "937a881a-c691-4361-970e-d695cf3ac9c6",
   "metadata": {},
   "outputs": [],
   "source": [
    "# Multi Linear regression is a advanced version of linear regression\n",
    "# In linear regression it only takes 2 variable one is depdent and other is indepndent\n",
    "# In Multi linear regression there is multiple independet variable and only single dependent variable\n",
    "\n",
    "# Formula : "
   ]
  },
  {
   "cell_type": "code",
   "execution_count": null,
   "id": "f27302af-cb73-4b6a-8bc1-92416b8c58b1",
   "metadata": {},
   "outputs": [],
   "source": []
  },
  {
   "cell_type": "code",
   "execution_count": null,
   "id": "47ef9466-1b20-469f-9fcd-c74db3c8020c",
   "metadata": {},
   "outputs": [],
   "source": []
  },
  {
   "cell_type": "code",
   "execution_count": 17,
   "id": "8c7e36ee-8465-41a4-b601-c5e5b834678c",
   "metadata": {},
   "outputs": [],
   "source": [
    "# Polynomial Regression:"
   ]
  },
  {
   "cell_type": "code",
   "execution_count": 18,
   "id": "e60d6e5d-73de-44aa-8ff6-c91349e879ef",
   "metadata": {},
   "outputs": [],
   "source": [
    "# method that are used to  understand and predict relationship that are not straight line but curve\n",
    "# Ploynomial regression that represent curved relationship between two variables."
   ]
  },
  {
   "cell_type": "code",
   "execution_count": null,
   "id": "12e5d078-352b-46af-9c18-9aa61ac2238f",
   "metadata": {},
   "outputs": [],
   "source": []
  }
 ],
 "metadata": {
  "kernelspec": {
   "display_name": "Python 3 (ipykernel)",
   "language": "python",
   "name": "python3"
  },
  "language_info": {
   "codemirror_mode": {
    "name": "ipython",
    "version": 3
   },
   "file_extension": ".py",
   "mimetype": "text/x-python",
   "name": "python",
   "nbconvert_exporter": "python",
   "pygments_lexer": "ipython3",
   "version": "3.12.1"
  }
 },
 "nbformat": 4,
 "nbformat_minor": 5
}
