{
 "cells": [
  {
   "cell_type": "code",
   "execution_count": null,
   "id": "575ebcb3-3865-4d03-a41b-45157baef320",
   "metadata": {},
   "outputs": [],
   "source": [
    "# Dictionary"
   ]
  },
  {
   "cell_type": "code",
   "execution_count": null,
   "id": "81e2ebca-d46b-46a3-bc59-0296378d947a",
   "metadata": {},
   "outputs": [],
   "source": [
    "# Dictionary is a key value pair used to store thr data.\n",
    "# 1. Ordered\n",
    "# 2. Changable\n",
    "# 3. Duplicate values allowed\n",
    "# Dictionary used round bracket followed by comma to seperate the elements\n",
    "# Dictionary can access by using the key name \n",
    "# The key should be in double or single quotes and : and value if the value is string so that would be in string if int then it will be in normal"
   ]
  },
  {
   "cell_type": "code",
   "execution_count": null,
   "id": "2c7763ce-5fc3-469f-a10d-29c399dcf68a",
   "metadata": {},
   "outputs": [],
   "source": [
    "# Sample dictionary"
   ]
  },
  {
   "cell_type": "code",
   "execution_count": 1,
   "id": "c65e52dd-d846-4d0d-b58f-a11e1e907d1b",
   "metadata": {},
   "outputs": [
    {
     "name": "stdout",
     "output_type": "stream",
     "text": [
      "{'brand': 'Ford', 'model': 'Mustang', 'year': 1964}\n"
     ]
    }
   ],
   "source": [
    "my_dict = {\"brand\":\"Ford\", \"model\": \"Mustang\",\"year\": 1964}\n",
    "print(my_dict)"
   ]
  },
  {
   "cell_type": "code",
   "execution_count": 2,
   "id": "fff72fb7-c296-42cd-8fbf-89127d3dbd12",
   "metadata": {},
   "outputs": [
    {
     "name": "stdout",
     "output_type": "stream",
     "text": [
      "{'brand': 'Ford', 'model': 'Mustang', 'year': 1964, 'color': 'white'}\n"
     ]
    }
   ],
   "source": [
    "my_dict = {\"brand\":\"Ford\", \"model\": \"Mustang\",\"year\": 1964 , 'color':'white'}\n",
    "print(my_dict)\n"
   ]
  },
  {
   "cell_type": "code",
   "execution_count": null,
   "id": "e6da244b-2441-4765-b9a9-18a47445857a",
   "metadata": {},
   "outputs": [],
   "source": []
  },
  {
   "cell_type": "code",
   "execution_count": null,
   "id": "9570418d-58a1-4ba7-a43c-f15c8d7b71c2",
   "metadata": {},
   "outputs": [],
   "source": []
  },
  {
   "cell_type": "code",
   "execution_count": null,
   "id": "f50f150c-f921-4109-bc78-de1043aac0a5",
   "metadata": {},
   "outputs": [],
   "source": [
    "# Chnage the items in dictionary "
   ]
  },
  {
   "cell_type": "code",
   "execution_count": null,
   "id": "97817237-2725-4bcf-84d6-aa47dce2c0e4",
   "metadata": {},
   "outputs": [],
   "source": [
    "# we can change the elment of dictory use the key we have to fetch the key and then change the value"
   ]
  },
  {
   "cell_type": "code",
   "execution_count": 3,
   "id": "9063f8c5-4b16-4c06-9a4e-f64f817b60ce",
   "metadata": {},
   "outputs": [
    {
     "name": "stdout",
     "output_type": "stream",
     "text": [
      "{'brand': 'Ford', 'model': 'Mustang', 'year': 1999}\n"
     ]
    }
   ],
   "source": [
    "my_dict = {\"brand\":\"Ford\", \"model\": \"Mustang\",\"year\": 1964}\n",
    "my_dict['year'] = 1999\n",
    "print(my_dict)"
   ]
  },
  {
   "cell_type": "code",
   "execution_count": 7,
   "id": "d839e23b-04a0-4e5f-84a3-79152f69e059",
   "metadata": {},
   "outputs": [
    {
     "name": "stdout",
     "output_type": "stream",
     "text": [
      "{'brand': 'Ford', 'model': 'Mustangs', 'year': 1964}\n"
     ]
    }
   ],
   "source": [
    "my_dict = {\"brand\":\"Ford\", \"model\": \"Mustang\",\"year\": 1964}\n",
    "my_dict['model']= 'Mustangs'\n",
    "print(my_dict)"
   ]
  },
  {
   "cell_type": "code",
   "execution_count": null,
   "id": "7ec91db6-75e6-4119-a30c-cde7e9c25e09",
   "metadata": {},
   "outputs": [],
   "source": []
  },
  {
   "cell_type": "code",
   "execution_count": null,
   "id": "457f6148-39e5-45d8-b278-c7fec107679b",
   "metadata": {},
   "outputs": [],
   "source": []
  },
  {
   "cell_type": "code",
   "execution_count": null,
   "id": "5f4e911e-bd30-47bf-b81e-7cc49d20d718",
   "metadata": {},
   "outputs": [],
   "source": [
    "# adding the element in dictionary"
   ]
  },
  {
   "cell_type": "code",
   "execution_count": 8,
   "id": "ec61e588-441a-456b-b4ba-8145a63b2079",
   "metadata": {},
   "outputs": [
    {
     "name": "stdout",
     "output_type": "stream",
     "text": [
      "{'brand': 'Ford', 'model': 'Mustang', 'year': 1964, 'color': 'red'}\n"
     ]
    }
   ],
   "source": [
    "my_dict = {\"brand\":\"Ford\", \"model\": \"Mustang\",\"year\": 1964}\n",
    "my_dict['color'] = 'red'\n",
    "print(my_dict)"
   ]
  },
  {
   "cell_type": "code",
   "execution_count": null,
   "id": "f057b6a2-4db4-40ff-9d9e-69932cb4b13c",
   "metadata": {},
   "outputs": [],
   "source": []
  },
  {
   "cell_type": "code",
   "execution_count": null,
   "id": "ea7de22c-f8cd-4882-9269-4d99aab391cd",
   "metadata": {},
   "outputs": [],
   "source": [
    "# remove data"
   ]
  },
  {
   "cell_type": "code",
   "execution_count": 9,
   "id": "44d57c24-ab45-4db7-8852-512db1f222c1",
   "metadata": {},
   "outputs": [
    {
     "name": "stdout",
     "output_type": "stream",
     "text": [
      "{'brand': 'Ford', 'model': 'Mustang'}\n"
     ]
    }
   ],
   "source": [
    "my_dict = {\"brand\":\"Ford\", \"model\": \"Mustang\",\"year\": 1964}\n",
    "my_dict.pop('year')\n",
    "print(my_dict)"
   ]
  },
  {
   "cell_type": "code",
   "execution_count": null,
   "id": "8a5a43ce-528c-4cd9-a040-5fbac8e615e9",
   "metadata": {},
   "outputs": [],
   "source": []
  }
 ],
 "metadata": {
  "kernelspec": {
   "display_name": "Python 3 (ipykernel)",
   "language": "python",
   "name": "python3"
  },
  "language_info": {
   "codemirror_mode": {
    "name": "ipython",
    "version": 3
   },
   "file_extension": ".py",
   "mimetype": "text/x-python",
   "name": "python",
   "nbconvert_exporter": "python",
   "pygments_lexer": "ipython3",
   "version": "3.12.1"
  }
 },
 "nbformat": 4,
 "nbformat_minor": 5
}
