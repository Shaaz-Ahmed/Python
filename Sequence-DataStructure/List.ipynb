{
 "cells": [
  {
   "cell_type": "code",
   "execution_count": null,
   "id": "73be68f5-d7b5-402d-a049-b8e17261e576",
   "metadata": {},
   "outputs": [],
   "source": [
    "# List in python"
   ]
  },
  {
   "cell_type": "code",
   "execution_count": null,
   "id": "f9448991-7dc5-4b64-9778-67b01008682b",
   "metadata": {},
   "outputs": [],
   "source": [
    "# List is a sequence data types, it stores multiple values under single varibale \n",
    "# List uses box bracket , list element can be either any types , but seperated by commas"
   ]
  },
  {
   "cell_type": "code",
   "execution_count": null,
   "id": "932b1492-4d49-4d58-8a50-b0cf57c3ffac",
   "metadata": {},
   "outputs": [],
   "source": [
    "# List is a ordered  (List uses indexing so its in order)\n",
    "# List can be changeable\n",
    "# List can allow duplicate element"
   ]
  },
  {
   "cell_type": "code",
   "execution_count": 1,
   "id": "6b4b8741-0838-4b83-810d-16afa5074797",
   "metadata": {},
   "outputs": [
    {
     "name": "stdout",
     "output_type": "stream",
     "text": [
      "['Apple', 'Banana', 'Chickoo']\n"
     ]
    }
   ],
   "source": [
    "mylst = [\"Apple\" , \"Banana\", \"Chickoo\"]\n",
    "print(mylst)\n",
    "# This is sample list"
   ]
  },
  {
   "cell_type": "code",
   "execution_count": null,
   "id": "38d3da59-fccf-4b17-898a-6cf54cd52bdb",
   "metadata": {},
   "outputs": [],
   "source": [
    "# Accessing the element"
   ]
  },
  {
   "cell_type": "code",
   "execution_count": 2,
   "id": "7d97af76-8b45-41c3-a393-e47a747535c2",
   "metadata": {},
   "outputs": [
    {
     "name": "stdout",
     "output_type": "stream",
     "text": [
      "20\n"
     ]
    }
   ],
   "source": [
    "# we can access the element using index number of list\n",
    "lst = [10,20,30]\n",
    "print(lst[1])\n",
    "# here we got the element of particular index"
   ]
  },
  {
   "cell_type": "code",
   "execution_count": null,
   "id": "7236ff5b-4394-4bd1-b209-3d3064d538bb",
   "metadata": {},
   "outputs": [],
   "source": [
    "# List can take duplicate values"
   ]
  },
  {
   "cell_type": "code",
   "execution_count": 3,
   "id": "2911099f-ac7b-4b1a-b18b-bba86462a5d0",
   "metadata": {},
   "outputs": [
    {
     "name": "stdout",
     "output_type": "stream",
     "text": [
      "['Apple', 'Bananaa', 'Chickoo', 'Watermeloan', 'apple']\n"
     ]
    }
   ],
   "source": [
    "lst = [\"Apple\", \"Bananaa\" , \"Chickoo\", \"Watermeloan\", \"apple\"]\n",
    "print(lst)\n",
    "# heres apple is duplicate element so it takes it mean it accept duplicate elements"
   ]
  },
  {
   "cell_type": "code",
   "execution_count": null,
   "id": "5ade1a66-f248-4c97-b67b-c3f2bc03c5c3",
   "metadata": {},
   "outputs": [],
   "source": []
  },
  {
   "cell_type": "code",
   "execution_count": null,
   "id": "4674bbdd-cf32-413f-8cc1-bc58d762132a",
   "metadata": {},
   "outputs": [],
   "source": [
    "# Changable :"
   ]
  },
  {
   "cell_type": "code",
   "execution_count": null,
   "id": "8a9c639a-9a47-41bd-8b73-8446b0837110",
   "metadata": {},
   "outputs": [],
   "source": [
    "# changable means we can change the list "
   ]
  },
  {
   "cell_type": "code",
   "execution_count": 12,
   "id": "b0e91819-7127-4758-a95c-0b128971ef85",
   "metadata": {},
   "outputs": [
    {
     "name": "stdout",
     "output_type": "stream",
     "text": [
      "[20, 10, 60, 40]\n"
     ]
    }
   ],
   "source": [
    "lst = [20,30,60,40]\n",
    "lst[1] = 10\n",
    "print(lst)"
   ]
  },
  {
   "cell_type": "code",
   "execution_count": null,
   "id": "dc106027-b175-49be-9c4c-b15f52cbae1e",
   "metadata": {},
   "outputs": [],
   "source": []
  },
  {
   "cell_type": "code",
   "execution_count": null,
   "id": "8377ab17-1581-476a-8aa6-cb330ad1550e",
   "metadata": {},
   "outputs": [],
   "source": []
  },
  {
   "cell_type": "code",
   "execution_count": null,
   "id": "c891f17c-226a-4c18-983e-2f27fcf6a732",
   "metadata": {},
   "outputs": [],
   "source": []
  },
  {
   "cell_type": "code",
   "execution_count": null,
   "id": "f2c64a0b-f946-4898-b658-d6ce6da25f46",
   "metadata": {},
   "outputs": [],
   "source": [
    "# Range of a index"
   ]
  },
  {
   "cell_type": "code",
   "execution_count": null,
   "id": "75cf994c-4ad4-4a37-921d-4367fedd92c0",
   "metadata": {},
   "outputs": [],
   "source": [
    "# Range of a index is like a slicing like from where to where we have to access the element\n",
    "# we can range from any particular point to any particular point\n",
    "# we can take from start to particular point\n",
    "# we can take from particular point to end \n",
    "# lets see all those practically"
   ]
  },
  {
   "cell_type": "code",
   "execution_count": 6,
   "id": "ad65742e-8655-4875-bfa6-273e5e124b49",
   "metadata": {},
   "outputs": [
    {
     "name": "stdout",
     "output_type": "stream",
     "text": [
      "['Banana', 'Chickoo']\n"
     ]
    }
   ],
   "source": [
    "# List Range from any particular point to any particular point\n",
    "lst = [\"Apple\" , \"Banana\" ,\"Chickoo\" , \"Watermeloan\"]\n",
    "print(lst[1:3])"
   ]
  },
  {
   "cell_type": "code",
   "execution_count": 8,
   "id": "e0ddcda1-8be9-4e45-8926-002f652d1f75",
   "metadata": {},
   "outputs": [
    {
     "name": "stdout",
     "output_type": "stream",
     "text": [
      "[10, 20, 30, 40]\n"
     ]
    }
   ],
   "source": [
    "# List Range from start to any particular point\n",
    "lst = [10,20,30,40,50,60,70,80,90]\n",
    "print(lst[:4])"
   ]
  },
  {
   "cell_type": "code",
   "execution_count": 9,
   "id": "ee835fcf-8958-494e-972f-85da27f510b7",
   "metadata": {},
   "outputs": [
    {
     "name": "stdout",
     "output_type": "stream",
     "text": [
      "[60, 70, 80, 90]\n"
     ]
    }
   ],
   "source": [
    "# List Range from any particular point to end\n",
    "lst = [10,20,30,40,50,60,70,80,90]\n",
    "print(lst[5:])"
   ]
  },
  {
   "cell_type": "code",
   "execution_count": null,
   "id": "041797be-a4cf-43e3-9df1-4e821e297f8e",
   "metadata": {},
   "outputs": [],
   "source": []
  },
  {
   "cell_type": "code",
   "execution_count": null,
   "id": "4796b42a-722d-46ae-b740-375f809f18b8",
   "metadata": {},
   "outputs": [],
   "source": []
  },
  {
   "cell_type": "code",
   "execution_count": null,
   "id": "a5f9c499-0f66-40a7-ae48-f87254dce411",
   "metadata": {},
   "outputs": [],
   "source": [
    "# Add element inside the list"
   ]
  },
  {
   "cell_type": "code",
   "execution_count": null,
   "id": "88ff95cb-63b5-4045-88d3-72020317785b",
   "metadata": {},
   "outputs": [],
   "source": [
    "# we can add the element to list using 2 ways.\n",
    "# 1. append()  : It will add to the end\n",
    "# 2. list_name.insert(index_number)"
   ]
  },
  {
   "cell_type": "code",
   "execution_count": 10,
   "id": "a3ed152f-4004-467c-93f5-1f6346a95db6",
   "metadata": {},
   "outputs": [
    {
     "name": "stdout",
     "output_type": "stream",
     "text": [
      "[10, 20, 30, 40, 50]\n"
     ]
    }
   ],
   "source": [
    "lst = [10,20,30,40]\n",
    "lst.append(50)\n",
    "print(lst)"
   ]
  },
  {
   "cell_type": "code",
   "execution_count": 11,
   "id": "4b46bcfe-ec48-46db-84b7-84edb529875d",
   "metadata": {},
   "outputs": [
    {
     "name": "stdout",
     "output_type": "stream",
     "text": [
      "[10, 20, 30, 33, 40, 50]\n"
     ]
    }
   ],
   "source": [
    "lst = [10,20,30,40,50]\n",
    "lst.insert(3,33)\n",
    "print(lst)"
   ]
  },
  {
   "cell_type": "code",
   "execution_count": null,
   "id": "aeae0a0b-0e52-4fde-b764-ef4e5787ef22",
   "metadata": {},
   "outputs": [],
   "source": []
  },
  {
   "cell_type": "code",
   "execution_count": null,
   "id": "0b4e7cab-a9e0-4e69-8a4f-9b03dd73b34f",
   "metadata": {},
   "outputs": [],
   "source": []
  },
  {
   "cell_type": "code",
   "execution_count": null,
   "id": "01e6b78f-d494-46d5-b628-85a174fb0c13",
   "metadata": {},
   "outputs": [],
   "source": [
    "# Remove element from list"
   ]
  },
  {
   "cell_type": "code",
   "execution_count": null,
   "id": "262d28fb-eefb-433d-a343-d86377970232",
   "metadata": {},
   "outputs": [],
   "source": [
    "# same as inserting we can delete the list element in two ways\n",
    "# list_name.remove\n",
    "# list_name.pop(index_no)"
   ]
  },
  {
   "cell_type": "code",
   "execution_count": 13,
   "id": "df029f63-5d44-420c-9a82-bd75bdcc9244",
   "metadata": {},
   "outputs": [
    {
     "name": "stdout",
     "output_type": "stream",
     "text": [
      "[10, 20, 30]\n"
     ]
    }
   ],
   "source": [
    "lst = [10,20,30,40]\n",
    "lst.remove(40)\n",
    "print(lst)"
   ]
  },
  {
   "cell_type": "code",
   "execution_count": 14,
   "id": "a1b55381-c064-46cc-9bba-e79b7358de87",
   "metadata": {},
   "outputs": [
    {
     "name": "stdout",
     "output_type": "stream",
     "text": [
      "[10, 20, 40]\n"
     ]
    }
   ],
   "source": [
    "lst = [10,20,30,40]\n",
    "lst.pop(2)\n",
    "print(lst)"
   ]
  },
  {
   "cell_type": "code",
   "execution_count": null,
   "id": "71e98ddc-6299-488b-aa3f-0f739cb3d0c8",
   "metadata": {},
   "outputs": [],
   "source": []
  },
  {
   "cell_type": "code",
   "execution_count": null,
   "id": "e717979f-864c-4a91-a8ba-30bf9e83de73",
   "metadata": {},
   "outputs": [],
   "source": []
  },
  {
   "cell_type": "code",
   "execution_count": null,
   "id": "6d9a381c-6e52-49ba-9aa5-a6ad8fda6c1f",
   "metadata": {},
   "outputs": [],
   "source": [
    "# sort list"
   ]
  },
  {
   "cell_type": "code",
   "execution_count": null,
   "id": "91a6ee58-9153-4742-9535-b0d2e6f1593c",
   "metadata": {},
   "outputs": [],
   "source": [
    "# sort the list mean we have to sort the list either in ascending or descending\n",
    "# for sorting there are two ways\n",
    "# list_name.sort\n",
    "# list_name.reverse"
   ]
  },
  {
   "cell_type": "code",
   "execution_count": 17,
   "id": "dae5387b-5b84-4714-8075-695ddea04a82",
   "metadata": {},
   "outputs": [
    {
     "name": "stdout",
     "output_type": "stream",
     "text": [
      "['abdul', 'hussain', 'saquib', 'shaaz', 'shams']\n"
     ]
    }
   ],
   "source": [
    "lst = [\"shaaz\" , \"abdul\" , \"saquib\", \"shams\" , \"hussain\"]\n",
    "lst.sort()\n",
    "print(lst)"
   ]
  },
  {
   "cell_type": "code",
   "execution_count": 18,
   "id": "46a6193d-7d1f-4b75-b028-302731f7de6a",
   "metadata": {},
   "outputs": [
    {
     "name": "stdout",
     "output_type": "stream",
     "text": [
      "['hussain', 'shams', 'saquib', 'abdul', 'shaaz']\n"
     ]
    }
   ],
   "source": [
    "lst = [\"shaaz\" , \"abdul\" , \"saquib\", \"shams\" , \"hussain\"]\n",
    "lst.reverse()\n",
    "print(lst)"
   ]
  },
  {
   "cell_type": "code",
   "execution_count": null,
   "id": "3a775072-674c-4913-8964-70110273ab27",
   "metadata": {},
   "outputs": [],
   "source": []
  },
  {
   "cell_type": "code",
   "execution_count": null,
   "id": "a32f1c0a-94e4-4910-8ed7-f73c185f6d7e",
   "metadata": {},
   "outputs": [],
   "source": []
  },
  {
   "cell_type": "code",
   "execution_count": null,
   "id": "e36cae4e-9dee-48b0-bb0d-a6ece58082e8",
   "metadata": {},
   "outputs": [],
   "source": [
    "# Join List"
   ]
  },
  {
   "cell_type": "code",
   "execution_count": null,
   "id": "e7053dd8-cf5c-488f-9935-4e5ef55df0cd",
   "metadata": {},
   "outputs": [],
   "source": [
    "# Join list means we can join the two list using + operator"
   ]
  },
  {
   "cell_type": "code",
   "execution_count": 19,
   "id": "d983153d-4258-4f13-be31-6e6c9653752f",
   "metadata": {},
   "outputs": [
    {
     "name": "stdout",
     "output_type": "stream",
     "text": [
      "[10, 20, 30, 40, 50, 60, 70]\n"
     ]
    }
   ],
   "source": [
    "lst = [10,20,30,40]\n",
    "lst1 = [50,60,70]\n",
    "print(lst+lst1)"
   ]
  },
  {
   "cell_type": "code",
   "execution_count": null,
   "id": "098d0ae7-a7e0-4266-8a68-cf21a00745e1",
   "metadata": {},
   "outputs": [],
   "source": []
  }
 ],
 "metadata": {
  "kernelspec": {
   "display_name": "Python 3 (ipykernel)",
   "language": "python",
   "name": "python3"
  },
  "language_info": {
   "codemirror_mode": {
    "name": "ipython",
    "version": 3
   },
   "file_extension": ".py",
   "mimetype": "text/x-python",
   "name": "python",
   "nbconvert_exporter": "python",
   "pygments_lexer": "ipython3",
   "version": "3.12.1"
  }
 },
 "nbformat": 4,
 "nbformat_minor": 5
}
