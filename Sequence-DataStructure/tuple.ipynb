{
 "cells": [
  {
   "cell_type": "code",
   "execution_count": null,
   "id": "e1730796-abcd-40e0-8aeb-6520fae38508",
   "metadata": {},
   "outputs": [],
   "source": [
    "# tuples "
   ]
  },
  {
   "cell_type": "code",
   "execution_count": 1,
   "id": "5be9a5bc-b71c-42e0-b4d8-6c1a58114659",
   "metadata": {},
   "outputs": [
    {
     "name": "stdout",
     "output_type": "stream",
     "text": [
      "Shaaz\n"
     ]
    }
   ],
   "source": [
    "print(\"Shaaz\")"
   ]
  },
  {
   "cell_type": "code",
   "execution_count": null,
   "id": "886ee69d-0651-4736-819d-7750b96c9630",
   "metadata": {},
   "outputs": [],
   "source": [
    "# tuples are sequence data structure is used to multiple data items into single variable\n",
    "# Tupes are :\n",
    "# 1. ordered\n",
    "# 2. unchangeable\n",
    "# 3. allows duplicate values"
   ]
  },
  {
   "cell_type": "code",
   "execution_count": null,
   "id": "9239594f-b288-4375-a5ac-4e6803cea10d",
   "metadata": {},
   "outputs": [],
   "source": [
    "# ordered : It starts from zeroth index then 1 and so on..,,\n",
    "# unchangable : we cannot make a chnage in tuples , like if we have to make chamgw in tuple first we have to convet it into list then have to change \n",
    "# -> the element adn the again convert back into tuple\n",
    "# duplicates : tuples element can be duplicate"
   ]
  },
  {
   "cell_type": "code",
   "execution_count": 2,
   "id": "e0b86e10-0d3d-4626-9003-648cb9efb1a7",
   "metadata": {},
   "outputs": [
    {
     "name": "stdout",
     "output_type": "stream",
     "text": [
      "('orange', 'apple', 'banana', 'chickoo')\n"
     ]
    }
   ],
   "source": [
    "mytuples = (\"orange\" , \"apple\", \"banana\" , \"chickoo\")\n",
    "print(mytuples)\n",
    "# Basic tuple implmentation"
   ]
  },
  {
   "cell_type": "code",
   "execution_count": 3,
   "id": "69661b81-a8d8-415f-aa22-55303f618120",
   "metadata": {},
   "outputs": [
    {
     "name": "stdout",
     "output_type": "stream",
     "text": [
      "orange\n"
     ]
    }
   ],
   "source": [
    "mytuples = (\"orange\" , \"apple\", \"banana\" , \"chickoo\")\n",
    "print(mytuples[0])\n",
    "# tuples index start from zero"
   ]
  },
  {
   "cell_type": "code",
   "execution_count": 4,
   "id": "0632f585-eda9-422f-adf5-926ecb318f11",
   "metadata": {},
   "outputs": [
    {
     "name": "stdout",
     "output_type": "stream",
     "text": [
      "apple\n"
     ]
    }
   ],
   "source": [
    "mytuples = (\"orange\" , \"apple\", \"banana\" , \"chickoo\")\n",
    "print(mytuples[1])\n",
    "# element inside the tuple can access using index"
   ]
  },
  {
   "cell_type": "code",
   "execution_count": null,
   "id": "b9b29eb6-4137-4ca5-be89-617cf788707f",
   "metadata": {},
   "outputs": [],
   "source": []
  },
  {
   "cell_type": "code",
   "execution_count": null,
   "id": "0701c369-82fa-4515-a231-e1d79287df29",
   "metadata": {},
   "outputs": [],
   "source": []
  },
  {
   "cell_type": "code",
   "execution_count": null,
   "id": "5895f88a-7ac2-4604-a352-fbc8000d1c95",
   "metadata": {},
   "outputs": [],
   "source": [
    "# Range on tuples: (slicing) "
   ]
  },
  {
   "cell_type": "code",
   "execution_count": 5,
   "id": "4c789af1-b209-45a1-9813-1697697ea8f3",
   "metadata": {},
   "outputs": [
    {
     "name": "stdout",
     "output_type": "stream",
     "text": [
      "('orange', 'apple', 'banana')\n"
     ]
    }
   ],
   "source": [
    "mytuples = (\"orange\" , \"apple\", \"banana\" , \"chickoo\")\n",
    "print(mytuples[:3])\n",
    "# range of tuples or its also proving that its a ordered and contigious"
   ]
  },
  {
   "cell_type": "code",
   "execution_count": null,
   "id": "bf2484dd-cba1-41a3-becf-77a88eadfd72",
   "metadata": {},
   "outputs": [],
   "source": [
    "mytuples = (\"orange\" , \"apple\", \"banana\" , \"chickoo\")\n",
    "print(mytuples[:3])"
   ]
  },
  {
   "cell_type": "code",
   "execution_count": 6,
   "id": "e4d276d2-9bf0-40e3-a520-0bae1510176b",
   "metadata": {},
   "outputs": [
    {
     "name": "stdout",
     "output_type": "stream",
     "text": [
      "('apple', 'banana')\n"
     ]
    }
   ],
   "source": [
    "mytuples = (\"orange\" , \"apple\", \"banana\" , \"chickoo\")\n",
    "print(mytuples[1:3])"
   ]
  },
  {
   "cell_type": "code",
   "execution_count": 7,
   "id": "4d3ff295-cc1f-41ab-b36b-bd405b0fdedc",
   "metadata": {},
   "outputs": [
    {
     "name": "stdout",
     "output_type": "stream",
     "text": [
      "('banana', 'chickoo')\n"
     ]
    }
   ],
   "source": [
    "mytuples = (\"orange\" , \"apple\", \"banana\" , \"chickoo\")\n",
    "print(mytuples[2:])"
   ]
  },
  {
   "cell_type": "code",
   "execution_count": 8,
   "id": "63108f92-e2ae-496a-b965-df575e15c93c",
   "metadata": {},
   "outputs": [
    {
     "name": "stdout",
     "output_type": "stream",
     "text": [
      "Yes apple is presnent\n"
     ]
    }
   ],
   "source": [
    "mytuples = (\"orange\" , \"apple\", \"banana\" , \"chickoo\")\n",
    "if \"apple\" in mytuples:\n",
    "    print(\"Yes apple is presnent\")"
   ]
  },
  {
   "cell_type": "code",
   "execution_count": null,
   "id": "7322ede0-4382-4d4f-b44e-c70b74aa5870",
   "metadata": {},
   "outputs": [],
   "source": []
  },
  {
   "cell_type": "code",
   "execution_count": null,
   "id": "bd7550d7-a5d9-4e25-9f2e-4ecfb3bcde48",
   "metadata": {},
   "outputs": [],
   "source": []
  },
  {
   "cell_type": "code",
   "execution_count": null,
   "id": "1a1fe9d4-178f-45fc-9b48-e309b50429a9",
   "metadata": {},
   "outputs": [],
   "source": [
    "# Update element of tuples"
   ]
  },
  {
   "cell_type": "code",
   "execution_count": null,
   "id": "1d13316c-a942-4e2c-8b52-af9d54cc8656",
   "metadata": {},
   "outputs": [],
   "source": [
    "# once tuple is created we canot add or delete the element from it . \n",
    "# to make change in tuple we have to first convert it into list and make change and again convert back it into tuple"
   ]
  },
  {
   "cell_type": "code",
   "execution_count": null,
   "id": "086a5a7a-f398-426c-943c-3950594eab77",
   "metadata": {},
   "outputs": [],
   "source": [
    "# update means we can add the element to the existing or delete the elemnt from the existing"
   ]
  },
  {
   "cell_type": "code",
   "execution_count": null,
   "id": "f0c60a62-b1b0-458e-9cad-9c717d28b228",
   "metadata": {},
   "outputs": [],
   "source": []
  },
  {
   "cell_type": "code",
   "execution_count": null,
   "id": "494b970e-dd0b-45da-81ac-848196f0cd2d",
   "metadata": {},
   "outputs": [],
   "source": [
    "# Adding the element into tuple"
   ]
  },
  {
   "cell_type": "code",
   "execution_count": 13,
   "id": "30b6b9da-096f-4a1a-b9ae-0fe704b79a10",
   "metadata": {},
   "outputs": [
    {
     "name": "stdout",
     "output_type": "stream",
     "text": [
      "('apple', 'banana', 'cherry', 'orang')\n"
     ]
    }
   ],
   "source": [
    "thistuple = (\"apple\", \"banana\", \"cherry\")\n",
    "y = list(thistuple)\n",
    "y.append(\"orang\")\n",
    "thistuple = tuple(y)\n",
    "\n",
    "print(thistuple)\n"
   ]
  },
  {
   "cell_type": "code",
   "execution_count": 14,
   "id": "48807a47-3ac5-4168-92b1-6a57a936e348",
   "metadata": {},
   "outputs": [
    {
     "name": "stdout",
     "output_type": "stream",
     "text": [
      "('apple', 'orange', 'banana', 'cherry')\n"
     ]
    }
   ],
   "source": [
    "thistuple = (\"apple\" , \"orange\" , \"banana\")\n",
    "y = list(thistuple)\n",
    "y.append(\"cherry\")\n",
    "thistuple = tuple(y)\n",
    "print(thistuple)"
   ]
  },
  {
   "cell_type": "code",
   "execution_count": null,
   "id": "648f84ad-34bb-4a18-9de3-ed20e5aa7905",
   "metadata": {},
   "outputs": [],
   "source": []
  },
  {
   "cell_type": "code",
   "execution_count": null,
   "id": "d8ff18c4-f274-4684-b40e-e8f01bcd0b32",
   "metadata": {},
   "outputs": [],
   "source": []
  },
  {
   "cell_type": "code",
   "execution_count": null,
   "id": "6fdac3c7-0e45-476e-b4de-242e42892021",
   "metadata": {},
   "outputs": [],
   "source": [
    "# Delete the elemnt from tuple"
   ]
  },
  {
   "cell_type": "code",
   "execution_count": 15,
   "id": "1445af17-2d4b-4b06-a52e-0f0b55b3a1f3",
   "metadata": {},
   "outputs": [
    {
     "name": "stdout",
     "output_type": "stream",
     "text": [
      "('orange', 'Chickoo')\n"
     ]
    }
   ],
   "source": [
    "this_tuple = (\"orange\" , \"apple\" , \"Chickoo\")\n",
    "y = list(this_tuple)\n",
    "y.remove(\"apple\")\n",
    "this_tuple = tuple(y)\n",
    "print(this_tuple)"
   ]
  },
  {
   "cell_type": "code",
   "execution_count": null,
   "id": "04c41019-d458-406c-9838-3b9b00d8ae63",
   "metadata": {},
   "outputs": [],
   "source": []
  }
 ],
 "metadata": {
  "kernelspec": {
   "display_name": "Python 3 (ipykernel)",
   "language": "python",
   "name": "python3"
  },
  "language_info": {
   "codemirror_mode": {
    "name": "ipython",
    "version": 3
   },
   "file_extension": ".py",
   "mimetype": "text/x-python",
   "name": "python",
   "nbconvert_exporter": "python",
   "pygments_lexer": "ipython3",
   "version": "3.12.1"
  }
 },
 "nbformat": 4,
 "nbformat_minor": 5
}
