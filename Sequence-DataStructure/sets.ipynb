{
 "cells": [
  {
   "cell_type": "code",
   "execution_count": null,
   "id": "168b7d56-df44-4a5d-a5e1-a9d9e9723487",
   "metadata": {},
   "outputs": [],
   "source": [
    "# sets in python"
   ]
  },
  {
   "cell_type": "code",
   "execution_count": null,
   "id": "9a431205-6cd3-42b4-afee-4b878ff31eeb",
   "metadata": {},
   "outputs": [],
   "source": [
    "# set is a sequenece data structure which is used to store the multiple element in single variable\n",
    "# set uses curely bracket { } . and sets element is seperated by commas.\n",
    "# set does not have index we cant make change in it."
   ]
  },
  {
   "cell_type": "code",
   "execution_count": null,
   "id": "50d45e64-58d4-4c15-a40e-608267f63908",
   "metadata": {},
   "outputs": [],
   "source": [
    "# set properties:\n",
    "# 1. Set is unordered\n",
    "# 2. set does not accept duplicate elements\n",
    "# 3. set element are unchanable"
   ]
  },
  {
   "cell_type": "code",
   "execution_count": null,
   "id": "256bccd6-ef28-4ff2-b644-021a7484b9fe",
   "metadata": {},
   "outputs": [],
   "source": [
    "# set is unorder like it does't contain indexing . like every time it will print the element in any order it does not follow ordering\n",
    "# set should accept only unique element . in set duplicates element are not allowed\n",
    "# set element are unchangable like we cannot make change onve set is created .\n",
    "# we can add and delete the elemnt from last only"
   ]
  },
  {
   "cell_type": "code",
   "execution_count": 1,
   "id": "0afbc7dd-5baa-48d1-921b-a46aba6d1d41",
   "metadata": {},
   "outputs": [
    {
     "name": "stdout",
     "output_type": "stream",
     "text": [
      "{'One', 'two', 'Three'}\n"
     ]
    }
   ],
   "source": [
    "myset = {\"One\" , \"two\" , \"Three\"}\n",
    "print(myset)"
   ]
  },
  {
   "cell_type": "code",
   "execution_count": 2,
   "id": "fd49fa84-ce7d-4758-9755-9e413d4ba13e",
   "metadata": {},
   "outputs": [
    {
     "name": "stdout",
     "output_type": "stream",
     "text": [
      "{'orange', 'apple', 'banana'}\n"
     ]
    }
   ],
   "source": [
    "myset = {'banana' , 'orange', 'apple'}\n",
    "print(myset)"
   ]
  },
  {
   "cell_type": "code",
   "execution_count": null,
   "id": "862cbe15-85a2-44bc-ad60-755ee980be5b",
   "metadata": {},
   "outputs": [],
   "source": []
  },
  {
   "cell_type": "code",
   "execution_count": null,
   "id": "832f1d62-bd20-4a02-925a-379212c8fea7",
   "metadata": {},
   "outputs": [],
   "source": []
  },
  {
   "cell_type": "code",
   "execution_count": null,
   "id": "068b559b-f9cc-4687-bd36-ddf79ac35bb2",
   "metadata": {},
   "outputs": [],
   "source": [
    "# add set items"
   ]
  },
  {
   "cell_type": "code",
   "execution_count": null,
   "id": "0fa0cca3-8eb4-4fa3-99dd-d41f454e7d4a",
   "metadata": {},
   "outputs": [],
   "source": [
    "# if we want to add new element into the set we cannot add in between the element can be added or deleted from the end itself\n",
    "# to add the element we have to make use of  set_name . add() method"
   ]
  },
  {
   "cell_type": "code",
   "execution_count": 3,
   "id": "474bc233-9d60-460c-aa91-9d4919a82155",
   "metadata": {},
   "outputs": [
    {
     "name": "stdout",
     "output_type": "stream",
     "text": [
      "{'one', 'five', 'three', 'two', 'four'}\n"
     ]
    }
   ],
   "source": [
    "my_set = {'one' , 'two' , 'three' , 'four'}\n",
    "my_set.add('five')\n",
    "print(my_set)"
   ]
  },
  {
   "cell_type": "code",
   "execution_count": 4,
   "id": "cd3030b9-83c3-471e-844f-a5b9e4acfa9d",
   "metadata": {},
   "outputs": [
    {
     "name": "stdout",
     "output_type": "stream",
     "text": [
      "{'two', 'three', 'one'}\n"
     ]
    }
   ],
   "source": [
    "myset_one = {'one' , 'two'}\n",
    "myset_one.add('three')\n",
    "print(myset_one)"
   ]
  },
  {
   "cell_type": "code",
   "execution_count": null,
   "id": "4eb276f6-9df3-464e-b158-0d2fd71e4d46",
   "metadata": {},
   "outputs": [],
   "source": []
  },
  {
   "cell_type": "code",
   "execution_count": null,
   "id": "c403d43c-d847-43ad-b628-e03b12030262",
   "metadata": {},
   "outputs": [],
   "source": []
  },
  {
   "cell_type": "code",
   "execution_count": null,
   "id": "d01d7c3c-521d-4eec-93db-678193b07a43",
   "metadata": {},
   "outputs": [],
   "source": [
    "# remove element from set"
   ]
  },
  {
   "cell_type": "code",
   "execution_count": null,
   "id": "7d73dc79-b093-4da7-b3ba-9a7f148d02e4",
   "metadata": {},
   "outputs": [],
   "source": [
    "# to remove element from set we have to make use of remove method or discard methods"
   ]
  },
  {
   "cell_type": "code",
   "execution_count": 5,
   "id": "28f63f0d-c84a-4fee-9d3b-4a2d1661df73",
   "metadata": {},
   "outputs": [
    {
     "name": "stdout",
     "output_type": "stream",
     "text": [
      "{'two', 'three', 'one'}\n"
     ]
    }
   ],
   "source": [
    "myset = {'one', 'two' , 'three' , 'four'}\n",
    "myset.remove('four')\n",
    "print(myset)"
   ]
  },
  {
   "cell_type": "code",
   "execution_count": null,
   "id": "4c309827-83a5-4063-a254-9f9fcc1b85e9",
   "metadata": {},
   "outputs": [],
   "source": []
  },
  {
   "cell_type": "code",
   "execution_count": null,
   "id": "1ade3982-362d-45ee-a19e-0aa861ada5db",
   "metadata": {},
   "outputs": [],
   "source": []
  },
  {
   "cell_type": "code",
   "execution_count": null,
   "id": "a5e13adf-2bc7-4666-b5ec-4600eb46749d",
   "metadata": {},
   "outputs": [],
   "source": [
    "# remove elemnt from the set"
   ]
  },
  {
   "cell_type": "code",
   "execution_count": null,
   "id": "17c428d4-ec62-4f1e-b284-48303173b5c3",
   "metadata": {},
   "outputs": [],
   "source": [
    "# we can remove the element from set using remove or discard method"
   ]
  },
  {
   "cell_type": "code",
   "execution_count": 6,
   "id": "c456c5e2-6046-40a0-a6b2-a1f8f54cb5ad",
   "metadata": {},
   "outputs": [
    {
     "name": "stdout",
     "output_type": "stream",
     "text": [
      "{1, 2, 3, 4, 5}\n"
     ]
    }
   ],
   "source": [
    "set = {1,2,3,4,5}\n",
    "print(set)"
   ]
  },
  {
   "cell_type": "code",
   "execution_count": 7,
   "id": "95ff3fde-12e6-4380-ad41-4f11a5eb1cfc",
   "metadata": {},
   "outputs": [
    {
     "name": "stdout",
     "output_type": "stream",
     "text": [
      "{1, 2, 3, 4}\n"
     ]
    }
   ],
   "source": [
    "set = {1,2,3,4,5}\n",
    "set.remove(5)\n",
    "print(set)"
   ]
  },
  {
   "cell_type": "code",
   "execution_count": 8,
   "id": "9c139c43-6196-4ee0-b1eb-7c5243174d9c",
   "metadata": {},
   "outputs": [
    {
     "name": "stdout",
     "output_type": "stream",
     "text": [
      "{1, 2, 3, 4}\n"
     ]
    }
   ],
   "source": [
    "set = {1,2,3,4,5}\n",
    "set.discard(5)\n",
    "print(set)"
   ]
  },
  {
   "cell_type": "code",
   "execution_count": null,
   "id": "05483191-c599-4719-a184-b7c05648372a",
   "metadata": {},
   "outputs": [],
   "source": []
  }
 ],
 "metadata": {
  "kernelspec": {
   "display_name": "Python 3 (ipykernel)",
   "language": "python",
   "name": "python3"
  },
  "language_info": {
   "codemirror_mode": {
    "name": "ipython",
    "version": 3
   },
   "file_extension": ".py",
   "mimetype": "text/x-python",
   "name": "python",
   "nbconvert_exporter": "python",
   "pygments_lexer": "ipython3",
   "version": "3.12.1"
  }
 },
 "nbformat": 4,
 "nbformat_minor": 5
}
